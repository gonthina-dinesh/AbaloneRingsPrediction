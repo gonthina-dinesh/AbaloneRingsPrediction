{
 "cells": [
  {
   "cell_type": "markdown",
   "id": "1d1bb86b-5eae-4e13-894f-6d1442052788",
   "metadata": {},
   "source": [
    "# Download Data from Kaggle"
   ]
  },
  {
   "cell_type": "code",
   "execution_count": 1,
   "id": "98fbb51f-fb8b-46bd-96bb-e4646431a729",
   "metadata": {},
   "outputs": [],
   "source": [
    "import opendatasets as od"
   ]
  },
  {
   "cell_type": "code",
   "execution_count": 2,
   "id": "782c063e-2d31-4464-bad2-07257fe16e6c",
   "metadata": {},
   "outputs": [],
   "source": [
    "dataset_url = 'https://www.kaggle.com/competitions/playground-series-s4e4/data'"
   ]
  },
  {
   "cell_type": "code",
   "execution_count": 3,
   "id": "3b71259b-a26a-426b-bbb5-c38e7d9596c3",
   "metadata": {},
   "outputs": [
    {
     "name": "stdout",
     "output_type": "stream",
     "text": [
      "Skipping, found downloaded files in \".\\playground-series-s4e4\" (use force=True to force download)\n",
      "CPU times: total: 0 ns\n",
      "Wall time: 996 µs\n"
     ]
    }
   ],
   "source": [
    "%%time\n",
    "od.download(dataset_url)"
   ]
  },
  {
   "cell_type": "code",
   "execution_count": 4,
   "id": "f29924a7-15ce-4a6d-a2d3-5b037001e92e",
   "metadata": {},
   "outputs": [],
   "source": [
    "data_dir = 'playground-series-s4e4'"
   ]
  },
  {
   "cell_type": "code",
   "execution_count": 5,
   "id": "3a1e08dc-739a-4154-9d32-c4a4d0351a48",
   "metadata": {},
   "outputs": [],
   "source": [
    "import os"
   ]
  },
  {
   "cell_type": "code",
   "execution_count": 6,
   "id": "eb02530c-78b7-4c6c-a5bf-4f389507b0a6",
   "metadata": {},
   "outputs": [
    {
     "data": {
      "text/plain": [
       "['sample_submission.csv', 'test.csv', 'train.csv']"
      ]
     },
     "execution_count": 6,
     "metadata": {},
     "output_type": "execute_result"
    }
   ],
   "source": [
    "os.listdir(data_dir)"
   ]
  },
  {
   "cell_type": "markdown",
   "id": "36128623-92ca-41d4-b569-32e221d4aceb",
   "metadata": {},
   "source": [
    "### Let's load the data into Pandas dataframes."
   ]
  },
  {
   "cell_type": "code",
   "execution_count": 7,
   "id": "aa7672e6-69a6-4ac4-a532-b05456ff7c78",
   "metadata": {},
   "outputs": [],
   "source": [
    "import pandas as pd"
   ]
  },
  {
   "cell_type": "code",
   "execution_count": 8,
   "id": "ec42db79-d201-4a87-b97f-dc5db8fb5a5e",
   "metadata": {},
   "outputs": [],
   "source": [
    "train_df = pd.read_csv(data_dir+'/train.csv', low_memory=False)\n",
    "test_df = pd.read_csv(data_dir+'/test.csv')\n",
    "submission_df = pd.read_csv(data_dir+'/sample_submission.csv')"
   ]
  },
  {
   "cell_type": "code",
   "execution_count": 9,
   "id": "293e15b4-134d-4eea-844f-57a6ff86a7f5",
   "metadata": {},
   "outputs": [
    {
     "data": {
      "text/html": [
       "<div>\n",
       "<style scoped>\n",
       "    .dataframe tbody tr th:only-of-type {\n",
       "        vertical-align: middle;\n",
       "    }\n",
       "\n",
       "    .dataframe tbody tr th {\n",
       "        vertical-align: top;\n",
       "    }\n",
       "\n",
       "    .dataframe thead th {\n",
       "        text-align: right;\n",
       "    }\n",
       "</style>\n",
       "<table border=\"1\" class=\"dataframe\">\n",
       "  <thead>\n",
       "    <tr style=\"text-align: right;\">\n",
       "      <th></th>\n",
       "      <th>id</th>\n",
       "      <th>Sex</th>\n",
       "      <th>Length</th>\n",
       "      <th>Diameter</th>\n",
       "      <th>Height</th>\n",
       "      <th>Whole weight</th>\n",
       "      <th>Whole weight.1</th>\n",
       "      <th>Whole weight.2</th>\n",
       "      <th>Shell weight</th>\n",
       "      <th>Rings</th>\n",
       "    </tr>\n",
       "  </thead>\n",
       "  <tbody>\n",
       "    <tr>\n",
       "      <th>0</th>\n",
       "      <td>0</td>\n",
       "      <td>F</td>\n",
       "      <td>0.550</td>\n",
       "      <td>0.430</td>\n",
       "      <td>0.150</td>\n",
       "      <td>0.7715</td>\n",
       "      <td>0.3285</td>\n",
       "      <td>0.1465</td>\n",
       "      <td>0.2400</td>\n",
       "      <td>11</td>\n",
       "    </tr>\n",
       "    <tr>\n",
       "      <th>1</th>\n",
       "      <td>1</td>\n",
       "      <td>F</td>\n",
       "      <td>0.630</td>\n",
       "      <td>0.490</td>\n",
       "      <td>0.145</td>\n",
       "      <td>1.1300</td>\n",
       "      <td>0.4580</td>\n",
       "      <td>0.2765</td>\n",
       "      <td>0.3200</td>\n",
       "      <td>11</td>\n",
       "    </tr>\n",
       "    <tr>\n",
       "      <th>2</th>\n",
       "      <td>2</td>\n",
       "      <td>I</td>\n",
       "      <td>0.160</td>\n",
       "      <td>0.110</td>\n",
       "      <td>0.025</td>\n",
       "      <td>0.0210</td>\n",
       "      <td>0.0055</td>\n",
       "      <td>0.0030</td>\n",
       "      <td>0.0050</td>\n",
       "      <td>6</td>\n",
       "    </tr>\n",
       "    <tr>\n",
       "      <th>3</th>\n",
       "      <td>3</td>\n",
       "      <td>M</td>\n",
       "      <td>0.595</td>\n",
       "      <td>0.475</td>\n",
       "      <td>0.150</td>\n",
       "      <td>0.9145</td>\n",
       "      <td>0.3755</td>\n",
       "      <td>0.2055</td>\n",
       "      <td>0.2500</td>\n",
       "      <td>10</td>\n",
       "    </tr>\n",
       "    <tr>\n",
       "      <th>4</th>\n",
       "      <td>4</td>\n",
       "      <td>I</td>\n",
       "      <td>0.555</td>\n",
       "      <td>0.425</td>\n",
       "      <td>0.130</td>\n",
       "      <td>0.7820</td>\n",
       "      <td>0.3695</td>\n",
       "      <td>0.1600</td>\n",
       "      <td>0.1975</td>\n",
       "      <td>9</td>\n",
       "    </tr>\n",
       "    <tr>\n",
       "      <th>...</th>\n",
       "      <td>...</td>\n",
       "      <td>...</td>\n",
       "      <td>...</td>\n",
       "      <td>...</td>\n",
       "      <td>...</td>\n",
       "      <td>...</td>\n",
       "      <td>...</td>\n",
       "      <td>...</td>\n",
       "      <td>...</td>\n",
       "      <td>...</td>\n",
       "    </tr>\n",
       "    <tr>\n",
       "      <th>90610</th>\n",
       "      <td>90610</td>\n",
       "      <td>M</td>\n",
       "      <td>0.335</td>\n",
       "      <td>0.235</td>\n",
       "      <td>0.075</td>\n",
       "      <td>0.1585</td>\n",
       "      <td>0.0685</td>\n",
       "      <td>0.0370</td>\n",
       "      <td>0.0450</td>\n",
       "      <td>6</td>\n",
       "    </tr>\n",
       "    <tr>\n",
       "      <th>90611</th>\n",
       "      <td>90611</td>\n",
       "      <td>M</td>\n",
       "      <td>0.555</td>\n",
       "      <td>0.425</td>\n",
       "      <td>0.150</td>\n",
       "      <td>0.8790</td>\n",
       "      <td>0.3865</td>\n",
       "      <td>0.1815</td>\n",
       "      <td>0.2400</td>\n",
       "      <td>9</td>\n",
       "    </tr>\n",
       "    <tr>\n",
       "      <th>90612</th>\n",
       "      <td>90612</td>\n",
       "      <td>I</td>\n",
       "      <td>0.435</td>\n",
       "      <td>0.330</td>\n",
       "      <td>0.095</td>\n",
       "      <td>0.3215</td>\n",
       "      <td>0.1510</td>\n",
       "      <td>0.0785</td>\n",
       "      <td>0.0815</td>\n",
       "      <td>6</td>\n",
       "    </tr>\n",
       "    <tr>\n",
       "      <th>90613</th>\n",
       "      <td>90613</td>\n",
       "      <td>I</td>\n",
       "      <td>0.345</td>\n",
       "      <td>0.270</td>\n",
       "      <td>0.075</td>\n",
       "      <td>0.2000</td>\n",
       "      <td>0.0980</td>\n",
       "      <td>0.0490</td>\n",
       "      <td>0.0700</td>\n",
       "      <td>6</td>\n",
       "    </tr>\n",
       "    <tr>\n",
       "      <th>90614</th>\n",
       "      <td>90614</td>\n",
       "      <td>I</td>\n",
       "      <td>0.425</td>\n",
       "      <td>0.325</td>\n",
       "      <td>0.100</td>\n",
       "      <td>0.3455</td>\n",
       "      <td>0.1525</td>\n",
       "      <td>0.0785</td>\n",
       "      <td>0.1050</td>\n",
       "      <td>8</td>\n",
       "    </tr>\n",
       "  </tbody>\n",
       "</table>\n",
       "<p>90615 rows × 10 columns</p>\n",
       "</div>"
      ],
      "text/plain": [
       "          id Sex  Length  Diameter  Height  Whole weight  Whole weight.1  \\\n",
       "0          0   F   0.550     0.430   0.150        0.7715          0.3285   \n",
       "1          1   F   0.630     0.490   0.145        1.1300          0.4580   \n",
       "2          2   I   0.160     0.110   0.025        0.0210          0.0055   \n",
       "3          3   M   0.595     0.475   0.150        0.9145          0.3755   \n",
       "4          4   I   0.555     0.425   0.130        0.7820          0.3695   \n",
       "...      ...  ..     ...       ...     ...           ...             ...   \n",
       "90610  90610   M   0.335     0.235   0.075        0.1585          0.0685   \n",
       "90611  90611   M   0.555     0.425   0.150        0.8790          0.3865   \n",
       "90612  90612   I   0.435     0.330   0.095        0.3215          0.1510   \n",
       "90613  90613   I   0.345     0.270   0.075        0.2000          0.0980   \n",
       "90614  90614   I   0.425     0.325   0.100        0.3455          0.1525   \n",
       "\n",
       "       Whole weight.2  Shell weight  Rings  \n",
       "0              0.1465        0.2400     11  \n",
       "1              0.2765        0.3200     11  \n",
       "2              0.0030        0.0050      6  \n",
       "3              0.2055        0.2500     10  \n",
       "4              0.1600        0.1975      9  \n",
       "...               ...           ...    ...  \n",
       "90610          0.0370        0.0450      6  \n",
       "90611          0.1815        0.2400      9  \n",
       "90612          0.0785        0.0815      6  \n",
       "90613          0.0490        0.0700      6  \n",
       "90614          0.0785        0.1050      8  \n",
       "\n",
       "[90615 rows x 10 columns]"
      ]
     },
     "execution_count": 9,
     "metadata": {},
     "output_type": "execute_result"
    }
   ],
   "source": [
    "train_df"
   ]
  },
  {
   "cell_type": "code",
   "execution_count": 10,
   "id": "7bcab70a-e442-4e94-9aa5-a6b90bb8c093",
   "metadata": {},
   "outputs": [
    {
     "data": {
      "text/html": [
       "<div>\n",
       "<style scoped>\n",
       "    .dataframe tbody tr th:only-of-type {\n",
       "        vertical-align: middle;\n",
       "    }\n",
       "\n",
       "    .dataframe tbody tr th {\n",
       "        vertical-align: top;\n",
       "    }\n",
       "\n",
       "    .dataframe thead th {\n",
       "        text-align: right;\n",
       "    }\n",
       "</style>\n",
       "<table border=\"1\" class=\"dataframe\">\n",
       "  <thead>\n",
       "    <tr style=\"text-align: right;\">\n",
       "      <th></th>\n",
       "      <th>id</th>\n",
       "      <th>Sex</th>\n",
       "      <th>Length</th>\n",
       "      <th>Diameter</th>\n",
       "      <th>Height</th>\n",
       "      <th>Whole weight</th>\n",
       "      <th>Whole weight.1</th>\n",
       "      <th>Whole weight.2</th>\n",
       "      <th>Shell weight</th>\n",
       "    </tr>\n",
       "  </thead>\n",
       "  <tbody>\n",
       "    <tr>\n",
       "      <th>0</th>\n",
       "      <td>90615</td>\n",
       "      <td>M</td>\n",
       "      <td>0.645</td>\n",
       "      <td>0.475</td>\n",
       "      <td>0.155</td>\n",
       "      <td>1.2380</td>\n",
       "      <td>0.6185</td>\n",
       "      <td>0.3125</td>\n",
       "      <td>0.3005</td>\n",
       "    </tr>\n",
       "    <tr>\n",
       "      <th>1</th>\n",
       "      <td>90616</td>\n",
       "      <td>M</td>\n",
       "      <td>0.580</td>\n",
       "      <td>0.460</td>\n",
       "      <td>0.160</td>\n",
       "      <td>0.9830</td>\n",
       "      <td>0.4785</td>\n",
       "      <td>0.2195</td>\n",
       "      <td>0.2750</td>\n",
       "    </tr>\n",
       "    <tr>\n",
       "      <th>2</th>\n",
       "      <td>90617</td>\n",
       "      <td>M</td>\n",
       "      <td>0.560</td>\n",
       "      <td>0.420</td>\n",
       "      <td>0.140</td>\n",
       "      <td>0.8395</td>\n",
       "      <td>0.3525</td>\n",
       "      <td>0.1845</td>\n",
       "      <td>0.2405</td>\n",
       "    </tr>\n",
       "    <tr>\n",
       "      <th>3</th>\n",
       "      <td>90618</td>\n",
       "      <td>M</td>\n",
       "      <td>0.570</td>\n",
       "      <td>0.490</td>\n",
       "      <td>0.145</td>\n",
       "      <td>0.8740</td>\n",
       "      <td>0.3525</td>\n",
       "      <td>0.1865</td>\n",
       "      <td>0.2350</td>\n",
       "    </tr>\n",
       "    <tr>\n",
       "      <th>4</th>\n",
       "      <td>90619</td>\n",
       "      <td>I</td>\n",
       "      <td>0.415</td>\n",
       "      <td>0.325</td>\n",
       "      <td>0.110</td>\n",
       "      <td>0.3580</td>\n",
       "      <td>0.1575</td>\n",
       "      <td>0.0670</td>\n",
       "      <td>0.1050</td>\n",
       "    </tr>\n",
       "    <tr>\n",
       "      <th>...</th>\n",
       "      <td>...</td>\n",
       "      <td>...</td>\n",
       "      <td>...</td>\n",
       "      <td>...</td>\n",
       "      <td>...</td>\n",
       "      <td>...</td>\n",
       "      <td>...</td>\n",
       "      <td>...</td>\n",
       "      <td>...</td>\n",
       "    </tr>\n",
       "    <tr>\n",
       "      <th>60406</th>\n",
       "      <td>151021</td>\n",
       "      <td>I</td>\n",
       "      <td>0.345</td>\n",
       "      <td>0.260</td>\n",
       "      <td>0.085</td>\n",
       "      <td>0.1775</td>\n",
       "      <td>0.0735</td>\n",
       "      <td>0.0265</td>\n",
       "      <td>0.0500</td>\n",
       "    </tr>\n",
       "    <tr>\n",
       "      <th>60407</th>\n",
       "      <td>151022</td>\n",
       "      <td>F</td>\n",
       "      <td>0.525</td>\n",
       "      <td>0.410</td>\n",
       "      <td>0.145</td>\n",
       "      <td>0.8445</td>\n",
       "      <td>0.3885</td>\n",
       "      <td>0.1670</td>\n",
       "      <td>0.2050</td>\n",
       "    </tr>\n",
       "    <tr>\n",
       "      <th>60408</th>\n",
       "      <td>151023</td>\n",
       "      <td>I</td>\n",
       "      <td>0.590</td>\n",
       "      <td>0.440</td>\n",
       "      <td>0.155</td>\n",
       "      <td>1.1220</td>\n",
       "      <td>0.3930</td>\n",
       "      <td>0.2000</td>\n",
       "      <td>0.2650</td>\n",
       "    </tr>\n",
       "    <tr>\n",
       "      <th>60409</th>\n",
       "      <td>151024</td>\n",
       "      <td>F</td>\n",
       "      <td>0.660</td>\n",
       "      <td>0.525</td>\n",
       "      <td>0.190</td>\n",
       "      <td>1.4935</td>\n",
       "      <td>0.5885</td>\n",
       "      <td>0.3575</td>\n",
       "      <td>0.4350</td>\n",
       "    </tr>\n",
       "    <tr>\n",
       "      <th>60410</th>\n",
       "      <td>151025</td>\n",
       "      <td>F</td>\n",
       "      <td>0.430</td>\n",
       "      <td>0.340</td>\n",
       "      <td>0.120</td>\n",
       "      <td>0.4150</td>\n",
       "      <td>0.1525</td>\n",
       "      <td>0.0910</td>\n",
       "      <td>0.0905</td>\n",
       "    </tr>\n",
       "  </tbody>\n",
       "</table>\n",
       "<p>60411 rows × 9 columns</p>\n",
       "</div>"
      ],
      "text/plain": [
       "           id Sex  Length  Diameter  Height  Whole weight  Whole weight.1  \\\n",
       "0       90615   M   0.645     0.475   0.155        1.2380          0.6185   \n",
       "1       90616   M   0.580     0.460   0.160        0.9830          0.4785   \n",
       "2       90617   M   0.560     0.420   0.140        0.8395          0.3525   \n",
       "3       90618   M   0.570     0.490   0.145        0.8740          0.3525   \n",
       "4       90619   I   0.415     0.325   0.110        0.3580          0.1575   \n",
       "...       ...  ..     ...       ...     ...           ...             ...   \n",
       "60406  151021   I   0.345     0.260   0.085        0.1775          0.0735   \n",
       "60407  151022   F   0.525     0.410   0.145        0.8445          0.3885   \n",
       "60408  151023   I   0.590     0.440   0.155        1.1220          0.3930   \n",
       "60409  151024   F   0.660     0.525   0.190        1.4935          0.5885   \n",
       "60410  151025   F   0.430     0.340   0.120        0.4150          0.1525   \n",
       "\n",
       "       Whole weight.2  Shell weight  \n",
       "0              0.3125        0.3005  \n",
       "1              0.2195        0.2750  \n",
       "2              0.1845        0.2405  \n",
       "3              0.1865        0.2350  \n",
       "4              0.0670        0.1050  \n",
       "...               ...           ...  \n",
       "60406          0.0265        0.0500  \n",
       "60407          0.1670        0.2050  \n",
       "60408          0.2000        0.2650  \n",
       "60409          0.3575        0.4350  \n",
       "60410          0.0910        0.0905  \n",
       "\n",
       "[60411 rows x 9 columns]"
      ]
     },
     "execution_count": 10,
     "metadata": {},
     "output_type": "execute_result"
    }
   ],
   "source": [
    "test_df"
   ]
  },
  {
   "cell_type": "code",
   "execution_count": 11,
   "id": "d3b18b0d-95e1-4bd8-9998-eb7ffcfe339d",
   "metadata": {},
   "outputs": [
    {
     "data": {
      "text/html": [
       "<div>\n",
       "<style scoped>\n",
       "    .dataframe tbody tr th:only-of-type {\n",
       "        vertical-align: middle;\n",
       "    }\n",
       "\n",
       "    .dataframe tbody tr th {\n",
       "        vertical-align: top;\n",
       "    }\n",
       "\n",
       "    .dataframe thead th {\n",
       "        text-align: right;\n",
       "    }\n",
       "</style>\n",
       "<table border=\"1\" class=\"dataframe\">\n",
       "  <thead>\n",
       "    <tr style=\"text-align: right;\">\n",
       "      <th></th>\n",
       "      <th>id</th>\n",
       "      <th>Rings</th>\n",
       "    </tr>\n",
       "  </thead>\n",
       "  <tbody>\n",
       "    <tr>\n",
       "      <th>0</th>\n",
       "      <td>90615</td>\n",
       "      <td>10</td>\n",
       "    </tr>\n",
       "    <tr>\n",
       "      <th>1</th>\n",
       "      <td>90616</td>\n",
       "      <td>10</td>\n",
       "    </tr>\n",
       "    <tr>\n",
       "      <th>2</th>\n",
       "      <td>90617</td>\n",
       "      <td>10</td>\n",
       "    </tr>\n",
       "    <tr>\n",
       "      <th>3</th>\n",
       "      <td>90618</td>\n",
       "      <td>10</td>\n",
       "    </tr>\n",
       "    <tr>\n",
       "      <th>4</th>\n",
       "      <td>90619</td>\n",
       "      <td>10</td>\n",
       "    </tr>\n",
       "    <tr>\n",
       "      <th>...</th>\n",
       "      <td>...</td>\n",
       "      <td>...</td>\n",
       "    </tr>\n",
       "    <tr>\n",
       "      <th>60406</th>\n",
       "      <td>151021</td>\n",
       "      <td>10</td>\n",
       "    </tr>\n",
       "    <tr>\n",
       "      <th>60407</th>\n",
       "      <td>151022</td>\n",
       "      <td>10</td>\n",
       "    </tr>\n",
       "    <tr>\n",
       "      <th>60408</th>\n",
       "      <td>151023</td>\n",
       "      <td>10</td>\n",
       "    </tr>\n",
       "    <tr>\n",
       "      <th>60409</th>\n",
       "      <td>151024</td>\n",
       "      <td>10</td>\n",
       "    </tr>\n",
       "    <tr>\n",
       "      <th>60410</th>\n",
       "      <td>151025</td>\n",
       "      <td>10</td>\n",
       "    </tr>\n",
       "  </tbody>\n",
       "</table>\n",
       "<p>60411 rows × 2 columns</p>\n",
       "</div>"
      ],
      "text/plain": [
       "           id  Rings\n",
       "0       90615     10\n",
       "1       90616     10\n",
       "2       90617     10\n",
       "3       90618     10\n",
       "4       90619     10\n",
       "...       ...    ...\n",
       "60406  151021     10\n",
       "60407  151022     10\n",
       "60408  151023     10\n",
       "60409  151024     10\n",
       "60410  151025     10\n",
       "\n",
       "[60411 rows x 2 columns]"
      ]
     },
     "execution_count": 11,
     "metadata": {},
     "output_type": "execute_result"
    }
   ],
   "source": [
    "submission_df"
   ]
  },
  {
   "cell_type": "markdown",
   "id": "a9d57ff1-5400-4c8a-912c-817c0dda0402",
   "metadata": {},
   "source": [
    "#  Explore the Dataset"
   ]
  },
  {
   "cell_type": "markdown",
   "id": "9fb4c38f-71bb-44eb-8d47-4a05bfa101f8",
   "metadata": {},
   "source": [
    "### Training Set"
   ]
  },
  {
   "cell_type": "code",
   "execution_count": 12,
   "id": "33d69c00-6a99-4554-8a4a-540862582835",
   "metadata": {},
   "outputs": [
    {
     "name": "stdout",
     "output_type": "stream",
     "text": [
      "<class 'pandas.core.frame.DataFrame'>\n",
      "RangeIndex: 90615 entries, 0 to 90614\n",
      "Data columns (total 10 columns):\n",
      " #   Column          Non-Null Count  Dtype  \n",
      "---  ------          --------------  -----  \n",
      " 0   id              90615 non-null  int64  \n",
      " 1   Sex             90615 non-null  object \n",
      " 2   Length          90615 non-null  float64\n",
      " 3   Diameter        90615 non-null  float64\n",
      " 4   Height          90615 non-null  float64\n",
      " 5   Whole weight    90615 non-null  float64\n",
      " 6   Whole weight.1  90615 non-null  float64\n",
      " 7   Whole weight.2  90615 non-null  float64\n",
      " 8   Shell weight    90615 non-null  float64\n",
      " 9   Rings           90615 non-null  int64  \n",
      "dtypes: float64(7), int64(2), object(1)\n",
      "memory usage: 6.9+ MB\n"
     ]
    }
   ],
   "source": [
    "train_df.info()"
   ]
  },
  {
   "cell_type": "code",
   "execution_count": 13,
   "id": "c3abf22f-3a60-4395-83d8-2c1bf7543bb0",
   "metadata": {},
   "outputs": [
    {
     "data": {
      "text/html": [
       "<div>\n",
       "<style scoped>\n",
       "    .dataframe tbody tr th:only-of-type {\n",
       "        vertical-align: middle;\n",
       "    }\n",
       "\n",
       "    .dataframe tbody tr th {\n",
       "        vertical-align: top;\n",
       "    }\n",
       "\n",
       "    .dataframe thead th {\n",
       "        text-align: right;\n",
       "    }\n",
       "</style>\n",
       "<table border=\"1\" class=\"dataframe\">\n",
       "  <thead>\n",
       "    <tr style=\"text-align: right;\">\n",
       "      <th></th>\n",
       "      <th>id</th>\n",
       "      <th>Length</th>\n",
       "      <th>Diameter</th>\n",
       "      <th>Height</th>\n",
       "      <th>Whole weight</th>\n",
       "      <th>Whole weight.1</th>\n",
       "      <th>Whole weight.2</th>\n",
       "      <th>Shell weight</th>\n",
       "      <th>Rings</th>\n",
       "    </tr>\n",
       "  </thead>\n",
       "  <tbody>\n",
       "    <tr>\n",
       "      <th>count</th>\n",
       "      <td>90615.000000</td>\n",
       "      <td>90615.000000</td>\n",
       "      <td>90615.000000</td>\n",
       "      <td>90615.000000</td>\n",
       "      <td>90615.000000</td>\n",
       "      <td>90615.000000</td>\n",
       "      <td>90615.000000</td>\n",
       "      <td>90615.000000</td>\n",
       "      <td>90615.000000</td>\n",
       "    </tr>\n",
       "    <tr>\n",
       "      <th>mean</th>\n",
       "      <td>45307.000000</td>\n",
       "      <td>0.517098</td>\n",
       "      <td>0.401679</td>\n",
       "      <td>0.135464</td>\n",
       "      <td>0.789035</td>\n",
       "      <td>0.340778</td>\n",
       "      <td>0.169422</td>\n",
       "      <td>0.225898</td>\n",
       "      <td>9.696794</td>\n",
       "    </tr>\n",
       "    <tr>\n",
       "      <th>std</th>\n",
       "      <td>26158.441658</td>\n",
       "      <td>0.118217</td>\n",
       "      <td>0.098026</td>\n",
       "      <td>0.038008</td>\n",
       "      <td>0.457671</td>\n",
       "      <td>0.204428</td>\n",
       "      <td>0.100909</td>\n",
       "      <td>0.130203</td>\n",
       "      <td>3.176221</td>\n",
       "    </tr>\n",
       "    <tr>\n",
       "      <th>min</th>\n",
       "      <td>0.000000</td>\n",
       "      <td>0.075000</td>\n",
       "      <td>0.055000</td>\n",
       "      <td>0.000000</td>\n",
       "      <td>0.002000</td>\n",
       "      <td>0.001000</td>\n",
       "      <td>0.000500</td>\n",
       "      <td>0.001500</td>\n",
       "      <td>1.000000</td>\n",
       "    </tr>\n",
       "    <tr>\n",
       "      <th>25%</th>\n",
       "      <td>22653.500000</td>\n",
       "      <td>0.445000</td>\n",
       "      <td>0.345000</td>\n",
       "      <td>0.110000</td>\n",
       "      <td>0.419000</td>\n",
       "      <td>0.177500</td>\n",
       "      <td>0.086500</td>\n",
       "      <td>0.120000</td>\n",
       "      <td>8.000000</td>\n",
       "    </tr>\n",
       "    <tr>\n",
       "      <th>50%</th>\n",
       "      <td>45307.000000</td>\n",
       "      <td>0.545000</td>\n",
       "      <td>0.425000</td>\n",
       "      <td>0.140000</td>\n",
       "      <td>0.799500</td>\n",
       "      <td>0.330000</td>\n",
       "      <td>0.166000</td>\n",
       "      <td>0.225000</td>\n",
       "      <td>9.000000</td>\n",
       "    </tr>\n",
       "    <tr>\n",
       "      <th>75%</th>\n",
       "      <td>67960.500000</td>\n",
       "      <td>0.600000</td>\n",
       "      <td>0.470000</td>\n",
       "      <td>0.160000</td>\n",
       "      <td>1.067500</td>\n",
       "      <td>0.463000</td>\n",
       "      <td>0.232500</td>\n",
       "      <td>0.305000</td>\n",
       "      <td>11.000000</td>\n",
       "    </tr>\n",
       "    <tr>\n",
       "      <th>max</th>\n",
       "      <td>90614.000000</td>\n",
       "      <td>0.815000</td>\n",
       "      <td>0.650000</td>\n",
       "      <td>1.130000</td>\n",
       "      <td>2.825500</td>\n",
       "      <td>1.488000</td>\n",
       "      <td>0.760000</td>\n",
       "      <td>1.005000</td>\n",
       "      <td>29.000000</td>\n",
       "    </tr>\n",
       "  </tbody>\n",
       "</table>\n",
       "</div>"
      ],
      "text/plain": [
       "                 id        Length      Diameter        Height  Whole weight  \\\n",
       "count  90615.000000  90615.000000  90615.000000  90615.000000  90615.000000   \n",
       "mean   45307.000000      0.517098      0.401679      0.135464      0.789035   \n",
       "std    26158.441658      0.118217      0.098026      0.038008      0.457671   \n",
       "min        0.000000      0.075000      0.055000      0.000000      0.002000   \n",
       "25%    22653.500000      0.445000      0.345000      0.110000      0.419000   \n",
       "50%    45307.000000      0.545000      0.425000      0.140000      0.799500   \n",
       "75%    67960.500000      0.600000      0.470000      0.160000      1.067500   \n",
       "max    90614.000000      0.815000      0.650000      1.130000      2.825500   \n",
       "\n",
       "       Whole weight.1  Whole weight.2  Shell weight         Rings  \n",
       "count    90615.000000    90615.000000  90615.000000  90615.000000  \n",
       "mean         0.340778        0.169422      0.225898      9.696794  \n",
       "std          0.204428        0.100909      0.130203      3.176221  \n",
       "min          0.001000        0.000500      0.001500      1.000000  \n",
       "25%          0.177500        0.086500      0.120000      8.000000  \n",
       "50%          0.330000        0.166000      0.225000      9.000000  \n",
       "75%          0.463000        0.232500      0.305000     11.000000  \n",
       "max          1.488000        0.760000      1.005000     29.000000  "
      ]
     },
     "execution_count": 13,
     "metadata": {},
     "output_type": "execute_result"
    }
   ],
   "source": [
    "train_df.describe()"
   ]
  },
  {
   "cell_type": "markdown",
   "id": "093ffc0c-d841-4f2c-84a6-27c0fcb95891",
   "metadata": {},
   "source": [
    "### Test Set"
   ]
  },
  {
   "cell_type": "code",
   "execution_count": 14,
   "id": "819408e2-deba-4c90-a46e-5a62c7529795",
   "metadata": {},
   "outputs": [
    {
     "name": "stdout",
     "output_type": "stream",
     "text": [
      "<class 'pandas.core.frame.DataFrame'>\n",
      "RangeIndex: 60411 entries, 0 to 60410\n",
      "Data columns (total 9 columns):\n",
      " #   Column          Non-Null Count  Dtype  \n",
      "---  ------          --------------  -----  \n",
      " 0   id              60411 non-null  int64  \n",
      " 1   Sex             60411 non-null  object \n",
      " 2   Length          60411 non-null  float64\n",
      " 3   Diameter        60411 non-null  float64\n",
      " 4   Height          60411 non-null  float64\n",
      " 5   Whole weight    60411 non-null  float64\n",
      " 6   Whole weight.1  60411 non-null  float64\n",
      " 7   Whole weight.2  60411 non-null  float64\n",
      " 8   Shell weight    60411 non-null  float64\n",
      "dtypes: float64(7), int64(1), object(1)\n",
      "memory usage: 4.1+ MB\n"
     ]
    }
   ],
   "source": [
    "test_df.info()"
   ]
  },
  {
   "cell_type": "code",
   "execution_count": 15,
   "id": "48dccd1c-92a2-4e25-89a2-379186b3ca1f",
   "metadata": {},
   "outputs": [
    {
     "data": {
      "text/html": [
       "<div>\n",
       "<style scoped>\n",
       "    .dataframe tbody tr th:only-of-type {\n",
       "        vertical-align: middle;\n",
       "    }\n",
       "\n",
       "    .dataframe tbody tr th {\n",
       "        vertical-align: top;\n",
       "    }\n",
       "\n",
       "    .dataframe thead th {\n",
       "        text-align: right;\n",
       "    }\n",
       "</style>\n",
       "<table border=\"1\" class=\"dataframe\">\n",
       "  <thead>\n",
       "    <tr style=\"text-align: right;\">\n",
       "      <th></th>\n",
       "      <th>id</th>\n",
       "      <th>Length</th>\n",
       "      <th>Diameter</th>\n",
       "      <th>Height</th>\n",
       "      <th>Whole weight</th>\n",
       "      <th>Whole weight.1</th>\n",
       "      <th>Whole weight.2</th>\n",
       "      <th>Shell weight</th>\n",
       "    </tr>\n",
       "  </thead>\n",
       "  <tbody>\n",
       "    <tr>\n",
       "      <th>count</th>\n",
       "      <td>60411.000000</td>\n",
       "      <td>60411.000000</td>\n",
       "      <td>60411.000000</td>\n",
       "      <td>60411.000000</td>\n",
       "      <td>60411.000000</td>\n",
       "      <td>60411.000000</td>\n",
       "      <td>60411.000000</td>\n",
       "      <td>60411.000000</td>\n",
       "    </tr>\n",
       "    <tr>\n",
       "      <th>mean</th>\n",
       "      <td>120820.000000</td>\n",
       "      <td>0.517428</td>\n",
       "      <td>0.401961</td>\n",
       "      <td>0.135751</td>\n",
       "      <td>0.790062</td>\n",
       "      <td>0.341227</td>\n",
       "      <td>0.169419</td>\n",
       "      <td>0.226125</td>\n",
       "    </tr>\n",
       "    <tr>\n",
       "      <th>std</th>\n",
       "      <td>17439.297893</td>\n",
       "      <td>0.117609</td>\n",
       "      <td>0.097470</td>\n",
       "      <td>0.038175</td>\n",
       "      <td>0.457591</td>\n",
       "      <td>0.204221</td>\n",
       "      <td>0.100720</td>\n",
       "      <td>0.129826</td>\n",
       "    </tr>\n",
       "    <tr>\n",
       "      <th>min</th>\n",
       "      <td>90615.000000</td>\n",
       "      <td>0.075000</td>\n",
       "      <td>0.055000</td>\n",
       "      <td>0.000000</td>\n",
       "      <td>0.002000</td>\n",
       "      <td>0.001000</td>\n",
       "      <td>0.000500</td>\n",
       "      <td>0.001500</td>\n",
       "    </tr>\n",
       "    <tr>\n",
       "      <th>25%</th>\n",
       "      <td>105717.500000</td>\n",
       "      <td>0.450000</td>\n",
       "      <td>0.345000</td>\n",
       "      <td>0.110000</td>\n",
       "      <td>0.419500</td>\n",
       "      <td>0.178500</td>\n",
       "      <td>0.086500</td>\n",
       "      <td>0.120000</td>\n",
       "    </tr>\n",
       "    <tr>\n",
       "      <th>50%</th>\n",
       "      <td>120820.000000</td>\n",
       "      <td>0.545000</td>\n",
       "      <td>0.425000</td>\n",
       "      <td>0.140000</td>\n",
       "      <td>0.801500</td>\n",
       "      <td>0.329000</td>\n",
       "      <td>0.166000</td>\n",
       "      <td>0.225000</td>\n",
       "    </tr>\n",
       "    <tr>\n",
       "      <th>75%</th>\n",
       "      <td>135922.500000</td>\n",
       "      <td>0.600000</td>\n",
       "      <td>0.470000</td>\n",
       "      <td>0.160000</td>\n",
       "      <td>1.070000</td>\n",
       "      <td>0.464500</td>\n",
       "      <td>0.232500</td>\n",
       "      <td>0.305000</td>\n",
       "    </tr>\n",
       "    <tr>\n",
       "      <th>max</th>\n",
       "      <td>151025.000000</td>\n",
       "      <td>0.800000</td>\n",
       "      <td>0.650000</td>\n",
       "      <td>1.095000</td>\n",
       "      <td>2.825500</td>\n",
       "      <td>1.488000</td>\n",
       "      <td>0.641500</td>\n",
       "      <td>1.004000</td>\n",
       "    </tr>\n",
       "  </tbody>\n",
       "</table>\n",
       "</div>"
      ],
      "text/plain": [
       "                  id        Length      Diameter        Height  Whole weight  \\\n",
       "count   60411.000000  60411.000000  60411.000000  60411.000000  60411.000000   \n",
       "mean   120820.000000      0.517428      0.401961      0.135751      0.790062   \n",
       "std     17439.297893      0.117609      0.097470      0.038175      0.457591   \n",
       "min     90615.000000      0.075000      0.055000      0.000000      0.002000   \n",
       "25%    105717.500000      0.450000      0.345000      0.110000      0.419500   \n",
       "50%    120820.000000      0.545000      0.425000      0.140000      0.801500   \n",
       "75%    135922.500000      0.600000      0.470000      0.160000      1.070000   \n",
       "max    151025.000000      0.800000      0.650000      1.095000      2.825500   \n",
       "\n",
       "       Whole weight.1  Whole weight.2  Shell weight  \n",
       "count    60411.000000    60411.000000  60411.000000  \n",
       "mean         0.341227        0.169419      0.226125  \n",
       "std          0.204221        0.100720      0.129826  \n",
       "min          0.001000        0.000500      0.001500  \n",
       "25%          0.178500        0.086500      0.120000  \n",
       "50%          0.329000        0.166000      0.225000  \n",
       "75%          0.464500        0.232500      0.305000  \n",
       "max          1.488000        0.641500      1.004000  "
      ]
     },
     "execution_count": 15,
     "metadata": {},
     "output_type": "execute_result"
    }
   ],
   "source": [
    "test_df.describe()"
   ]
  },
  {
   "cell_type": "code",
   "execution_count": 16,
   "id": "0e576127-1ad4-4eed-8872-5ce4ec9d19da",
   "metadata": {},
   "outputs": [
    {
     "data": {
      "text/plain": [
       "0"
      ]
     },
     "execution_count": 16,
     "metadata": {},
     "output_type": "execute_result"
    }
   ],
   "source": [
    "train_df.duplicated().sum()"
   ]
  },
  {
   "cell_type": "markdown",
   "id": "6d11310c-6517-425f-a894-eb7c1c35f50a",
   "metadata": {},
   "source": [
    "# Prepare Dataset for Training"
   ]
  },
  {
   "cell_type": "code",
   "execution_count": 17,
   "id": "1f3377da-ea59-4a83-b3f7-6f73f0dda77e",
   "metadata": {},
   "outputs": [],
   "source": [
    "from sklearn.model_selection import train_test_split"
   ]
  },
  {
   "cell_type": "code",
   "execution_count": 18,
   "id": "08ae3143-ca38-4821-ae8d-81ddeb8ecbc5",
   "metadata": {},
   "outputs": [],
   "source": [
    "train_df, val_df = train_test_split(train_df, test_size=0.2, random_state=42)"
   ]
  },
  {
   "cell_type": "code",
   "execution_count": 19,
   "id": "09205f4f-490e-4e04-b08e-67ec70fa4de9",
   "metadata": {},
   "outputs": [
    {
     "data": {
      "text/plain": [
       "(72492, 18123)"
      ]
     },
     "execution_count": 19,
     "metadata": {},
     "output_type": "execute_result"
    }
   ],
   "source": [
    "len(train_df),len(val_df)"
   ]
  },
  {
   "cell_type": "markdown",
   "id": "83775c2c-656c-4f76-b8bd-02a474e3d06b",
   "metadata": {},
   "source": [
    "## Input and Target Columns"
   ]
  },
  {
   "cell_type": "code",
   "execution_count": 20,
   "id": "1141e395-522c-4349-bc90-154388ab2f0c",
   "metadata": {},
   "outputs": [],
   "source": [
    "input_cols = list(train_df.columns[1:-1])\n",
    "target_col = 'Rings'"
   ]
  },
  {
   "cell_type": "code",
   "execution_count": 21,
   "id": "79ff840d-55fc-426e-a7a5-4c12269774ca",
   "metadata": {},
   "outputs": [
    {
     "data": {
      "text/plain": [
       "['Sex',\n",
       " 'Length',\n",
       " 'Diameter',\n",
       " 'Height',\n",
       " 'Whole weight',\n",
       " 'Whole weight.1',\n",
       " 'Whole weight.2',\n",
       " 'Shell weight']"
      ]
     },
     "execution_count": 21,
     "metadata": {},
     "output_type": "execute_result"
    }
   ],
   "source": [
    "input_cols"
   ]
  },
  {
   "cell_type": "markdown",
   "id": "bddc1828-7006-4e14-b223-eab5dd0d6d22",
   "metadata": {},
   "source": [
    "### Training"
   ]
  },
  {
   "cell_type": "code",
   "execution_count": 22,
   "id": "22b9c145-2c03-4768-813d-43c7ecc5b919",
   "metadata": {},
   "outputs": [],
   "source": [
    "train_inputs = train_df[input_cols]\n",
    "train_targets = train_df[target_col]"
   ]
  },
  {
   "cell_type": "code",
   "execution_count": 23,
   "id": "4e4fa9f1-2bc3-4a2c-8501-83085c37a846",
   "metadata": {},
   "outputs": [
    {
     "data": {
      "text/html": [
       "<div>\n",
       "<style scoped>\n",
       "    .dataframe tbody tr th:only-of-type {\n",
       "        vertical-align: middle;\n",
       "    }\n",
       "\n",
       "    .dataframe tbody tr th {\n",
       "        vertical-align: top;\n",
       "    }\n",
       "\n",
       "    .dataframe thead th {\n",
       "        text-align: right;\n",
       "    }\n",
       "</style>\n",
       "<table border=\"1\" class=\"dataframe\">\n",
       "  <thead>\n",
       "    <tr style=\"text-align: right;\">\n",
       "      <th></th>\n",
       "      <th>Sex</th>\n",
       "      <th>Length</th>\n",
       "      <th>Diameter</th>\n",
       "      <th>Height</th>\n",
       "      <th>Whole weight</th>\n",
       "      <th>Whole weight.1</th>\n",
       "      <th>Whole weight.2</th>\n",
       "      <th>Shell weight</th>\n",
       "    </tr>\n",
       "  </thead>\n",
       "  <tbody>\n",
       "    <tr>\n",
       "      <th>43718</th>\n",
       "      <td>M</td>\n",
       "      <td>0.650</td>\n",
       "      <td>0.505</td>\n",
       "      <td>0.175</td>\n",
       "      <td>1.3850</td>\n",
       "      <td>0.7105</td>\n",
       "      <td>0.3020</td>\n",
       "      <td>0.360</td>\n",
       "    </tr>\n",
       "    <tr>\n",
       "      <th>45247</th>\n",
       "      <td>F</td>\n",
       "      <td>0.670</td>\n",
       "      <td>0.520</td>\n",
       "      <td>0.195</td>\n",
       "      <td>1.5405</td>\n",
       "      <td>0.6370</td>\n",
       "      <td>0.3455</td>\n",
       "      <td>0.385</td>\n",
       "    </tr>\n",
       "    <tr>\n",
       "      <th>71393</th>\n",
       "      <td>M</td>\n",
       "      <td>0.605</td>\n",
       "      <td>0.495</td>\n",
       "      <td>0.150</td>\n",
       "      <td>1.1345</td>\n",
       "      <td>0.5585</td>\n",
       "      <td>0.2470</td>\n",
       "      <td>0.285</td>\n",
       "    </tr>\n",
       "    <tr>\n",
       "      <th>51688</th>\n",
       "      <td>M</td>\n",
       "      <td>0.680</td>\n",
       "      <td>0.560</td>\n",
       "      <td>0.200</td>\n",
       "      <td>1.5340</td>\n",
       "      <td>0.6900</td>\n",
       "      <td>0.3060</td>\n",
       "      <td>0.440</td>\n",
       "    </tr>\n",
       "    <tr>\n",
       "      <th>40681</th>\n",
       "      <td>I</td>\n",
       "      <td>0.295</td>\n",
       "      <td>0.200</td>\n",
       "      <td>0.075</td>\n",
       "      <td>0.1075</td>\n",
       "      <td>0.0350</td>\n",
       "      <td>0.0190</td>\n",
       "      <td>0.038</td>\n",
       "    </tr>\n",
       "    <tr>\n",
       "      <th>...</th>\n",
       "      <td>...</td>\n",
       "      <td>...</td>\n",
       "      <td>...</td>\n",
       "      <td>...</td>\n",
       "      <td>...</td>\n",
       "      <td>...</td>\n",
       "      <td>...</td>\n",
       "      <td>...</td>\n",
       "    </tr>\n",
       "    <tr>\n",
       "      <th>6265</th>\n",
       "      <td>I</td>\n",
       "      <td>0.350</td>\n",
       "      <td>0.265</td>\n",
       "      <td>0.080</td>\n",
       "      <td>0.1790</td>\n",
       "      <td>0.0630</td>\n",
       "      <td>0.0380</td>\n",
       "      <td>0.055</td>\n",
       "    </tr>\n",
       "    <tr>\n",
       "      <th>54886</th>\n",
       "      <td>F</td>\n",
       "      <td>0.580</td>\n",
       "      <td>0.460</td>\n",
       "      <td>0.140</td>\n",
       "      <td>0.8435</td>\n",
       "      <td>0.3365</td>\n",
       "      <td>0.1665</td>\n",
       "      <td>0.225</td>\n",
       "    </tr>\n",
       "    <tr>\n",
       "      <th>76820</th>\n",
       "      <td>I</td>\n",
       "      <td>0.530</td>\n",
       "      <td>0.420</td>\n",
       "      <td>0.125</td>\n",
       "      <td>0.5965</td>\n",
       "      <td>0.2505</td>\n",
       "      <td>0.1435</td>\n",
       "      <td>0.170</td>\n",
       "    </tr>\n",
       "    <tr>\n",
       "      <th>860</th>\n",
       "      <td>M</td>\n",
       "      <td>0.695</td>\n",
       "      <td>0.525</td>\n",
       "      <td>0.185</td>\n",
       "      <td>1.8275</td>\n",
       "      <td>0.8850</td>\n",
       "      <td>0.4095</td>\n",
       "      <td>0.499</td>\n",
       "    </tr>\n",
       "    <tr>\n",
       "      <th>15795</th>\n",
       "      <td>I</td>\n",
       "      <td>0.370</td>\n",
       "      <td>0.275</td>\n",
       "      <td>0.095</td>\n",
       "      <td>0.2225</td>\n",
       "      <td>0.0960</td>\n",
       "      <td>0.0455</td>\n",
       "      <td>0.080</td>\n",
       "    </tr>\n",
       "  </tbody>\n",
       "</table>\n",
       "<p>72492 rows × 8 columns</p>\n",
       "</div>"
      ],
      "text/plain": [
       "      Sex  Length  Diameter  Height  Whole weight  Whole weight.1  \\\n",
       "43718   M   0.650     0.505   0.175        1.3850          0.7105   \n",
       "45247   F   0.670     0.520   0.195        1.5405          0.6370   \n",
       "71393   M   0.605     0.495   0.150        1.1345          0.5585   \n",
       "51688   M   0.680     0.560   0.200        1.5340          0.6900   \n",
       "40681   I   0.295     0.200   0.075        0.1075          0.0350   \n",
       "...    ..     ...       ...     ...           ...             ...   \n",
       "6265    I   0.350     0.265   0.080        0.1790          0.0630   \n",
       "54886   F   0.580     0.460   0.140        0.8435          0.3365   \n",
       "76820   I   0.530     0.420   0.125        0.5965          0.2505   \n",
       "860     M   0.695     0.525   0.185        1.8275          0.8850   \n",
       "15795   I   0.370     0.275   0.095        0.2225          0.0960   \n",
       "\n",
       "       Whole weight.2  Shell weight  \n",
       "43718          0.3020         0.360  \n",
       "45247          0.3455         0.385  \n",
       "71393          0.2470         0.285  \n",
       "51688          0.3060         0.440  \n",
       "40681          0.0190         0.038  \n",
       "...               ...           ...  \n",
       "6265           0.0380         0.055  \n",
       "54886          0.1665         0.225  \n",
       "76820          0.1435         0.170  \n",
       "860            0.4095         0.499  \n",
       "15795          0.0455         0.080  \n",
       "\n",
       "[72492 rows x 8 columns]"
      ]
     },
     "execution_count": 23,
     "metadata": {},
     "output_type": "execute_result"
    }
   ],
   "source": [
    "train_inputs"
   ]
  },
  {
   "cell_type": "code",
   "execution_count": 24,
   "id": "9aaee0a5-9392-4287-a7ab-83ac990c29ce",
   "metadata": {},
   "outputs": [
    {
     "data": {
      "text/plain": [
       "43718    10\n",
       "45247    11\n",
       "71393     9\n",
       "51688    11\n",
       "40681     5\n",
       "         ..\n",
       "6265      7\n",
       "54886     9\n",
       "76820     8\n",
       "860      11\n",
       "15795     7\n",
       "Name: Rings, Length: 72492, dtype: int64"
      ]
     },
     "execution_count": 24,
     "metadata": {},
     "output_type": "execute_result"
    }
   ],
   "source": [
    "train_targets"
   ]
  },
  {
   "cell_type": "markdown",
   "id": "f88a51fe-56f2-4ec3-872d-8074596ce448",
   "metadata": {},
   "source": [
    "### Validation"
   ]
  },
  {
   "cell_type": "code",
   "execution_count": 25,
   "id": "7eb7ead1-4216-4121-b235-0d0287729e5a",
   "metadata": {},
   "outputs": [],
   "source": [
    "val_inputs = val_df[input_cols]\n",
    "val_targets = val_df[target_col]"
   ]
  },
  {
   "cell_type": "markdown",
   "id": "06dc5560-635d-4e6e-96e3-706a499ebb6d",
   "metadata": {},
   "source": [
    "### Test"
   ]
  },
  {
   "cell_type": "code",
   "execution_count": 26,
   "id": "547fcf59-42cc-4eb9-ba10-78184552eaa0",
   "metadata": {},
   "outputs": [],
   "source": [
    "test_inputs = test_df[input_cols]"
   ]
  },
  {
   "cell_type": "markdown",
   "id": "9fca1254-ceab-4d42-9506-a925aa23382b",
   "metadata": {},
   "source": [
    "## Identify the numeric and categorical columns."
   ]
  },
  {
   "cell_type": "code",
   "execution_count": 27,
   "id": "122ac6fa-1926-43ca-a5bc-b0e680ff5b97",
   "metadata": {},
   "outputs": [],
   "source": [
    "import numpy as np"
   ]
  },
  {
   "cell_type": "code",
   "execution_count": 28,
   "id": "9ba8e473-33b4-4178-b2e3-fc17caf3fc4a",
   "metadata": {},
   "outputs": [],
   "source": [
    "numeric_cols = train_inputs.select_dtypes(include=np.number).columns.tolist()\n",
    "categorical_cols = train_inputs.select_dtypes('object').columns.tolist()"
   ]
  },
  {
   "cell_type": "code",
   "execution_count": 29,
   "id": "4d83bd12-cd8e-42e1-a719-e6c355521db1",
   "metadata": {},
   "outputs": [
    {
     "name": "stdout",
     "output_type": "stream",
     "text": [
      "['Length', 'Diameter', 'Height', 'Whole weight', 'Whole weight.1', 'Whole weight.2', 'Shell weight']\n"
     ]
    }
   ],
   "source": [
    "print(numeric_cols)"
   ]
  },
  {
   "cell_type": "code",
   "execution_count": 30,
   "id": "c91279e0-8403-466d-8b06-1407c8ddfd49",
   "metadata": {},
   "outputs": [
    {
     "name": "stdout",
     "output_type": "stream",
     "text": [
      "['Sex']\n"
     ]
    }
   ],
   "source": [
    "print(categorical_cols)"
   ]
  },
  {
   "cell_type": "markdown",
   "id": "94e225aa-fb39-4ed0-9703-37dc4a1685cb",
   "metadata": {},
   "source": [
    "# Imputation, Scaling and Encode"
   ]
  },
  {
   "cell_type": "markdown",
   "id": "65d67894-d124-4fc6-89d7-670ac5f461e5",
   "metadata": {},
   "source": [
    "### Imputation"
   ]
  },
  {
   "cell_type": "code",
   "execution_count": 31,
   "id": "bee857e3-71ca-4367-8e9a-89202d440a2d",
   "metadata": {},
   "outputs": [
    {
     "data": {
      "text/plain": [
       "Length            0\n",
       "Diameter          0\n",
       "Height            0\n",
       "Whole weight      0\n",
       "Whole weight.1    0\n",
       "Whole weight.2    0\n",
       "Shell weight      0\n",
       "dtype: int64"
      ]
     },
     "execution_count": 31,
     "metadata": {},
     "output_type": "execute_result"
    }
   ],
   "source": [
    "train_inputs[numeric_cols].isna().sum().sort_values()"
   ]
  },
  {
   "cell_type": "raw",
   "id": "88938408-fdfe-4948-b4c0-581a5845a2d1",
   "metadata": {},
   "source": [
    "So there is no missing values ,so no need of imputation"
   ]
  },
  {
   "cell_type": "markdown",
   "id": "b819b56e-2d68-4da9-9ff4-4a7a45f7714a",
   "metadata": {},
   "source": [
    "### Scaling"
   ]
  },
  {
   "cell_type": "markdown",
   "id": "e8328f0f-ee1e-43c9-982c-f4891d82065d",
   "metadata": {},
   "source": [
    "from sklearn.preprocessing import StandardScaler"
   ]
  },
  {
   "cell_type": "code",
   "execution_count": 31,
   "id": "3664b47f-ce48-43e8-9f20-9899178a1bed",
   "metadata": {},
   "outputs": [],
   "source": [
    "# Ensure the DataFrames are copies to avoid SettingWithCopyWarning\n",
    "train_inputs = train_inputs.copy()\n",
    "val_inputs = val_inputs.copy()\n",
    "test_inputs = test_inputs.copy()"
   ]
  },
  {
   "cell_type": "markdown",
   "id": "74dfd074-48d9-4da9-aedf-4c3fd38184e0",
   "metadata": {},
   "source": [
    "scaler = StandardScaler().fit(train_inputs[numeric_cols])"
   ]
  },
  {
   "cell_type": "code",
   "execution_count": null,
   "id": "c54f3a1e-fa3a-413f-846c-fa66a3732c4e",
   "metadata": {},
   "outputs": [],
   "source": [
    "train_inputs.loc[:, numeric_cols] = scaler.transform(train_inputs[numeric_cols])\n",
    "val_inputs.loc[:, numeric_cols] = scaler.transform(val_inputs[numeric_cols])\n",
    "test_inputs.loc[:, numeric_cols] = scaler.transform(test_inputs[numeric_cols])"
   ]
  },
  {
   "cell_type": "markdown",
   "id": "1bf91579-bcfc-4e39-b141-2e88f443db9f",
   "metadata": {},
   "source": [
    "### Encoding"
   ]
  },
  {
   "cell_type": "code",
   "execution_count": 32,
   "id": "cdbc2bc9-b9e0-476c-8d87-72b711327fe1",
   "metadata": {},
   "outputs": [],
   "source": [
    "from sklearn.preprocessing import OneHotEncoder"
   ]
  },
  {
   "cell_type": "code",
   "execution_count": 33,
   "id": "fdf853f5-7aa6-40e1-bc40-d4c4965929bc",
   "metadata": {},
   "outputs": [],
   "source": [
    "encoder = OneHotEncoder(sparse_output=False, handle_unknown='ignore').fit(train_inputs[categorical_cols])\n",
    "encoded_cols = list(encoder.get_feature_names_out(categorical_cols))"
   ]
  },
  {
   "cell_type": "code",
   "execution_count": 34,
   "id": "5caa99f4-9e6f-4eaf-90d8-63bf42444347",
   "metadata": {},
   "outputs": [],
   "source": [
    "train_inputs[encoded_cols] = encoder.transform(train_inputs[categorical_cols])\n",
    "val_inputs[encoded_cols] = encoder.transform(val_inputs[categorical_cols])\n",
    "test_inputs[encoded_cols] = encoder.transform(test_inputs[categorical_cols])"
   ]
  },
  {
   "cell_type": "code",
   "execution_count": 35,
   "id": "2e49e6b2-d477-4ee5-8d58-59f38f4c87f7",
   "metadata": {},
   "outputs": [],
   "source": [
    "X_train = train_inputs[numeric_cols + encoded_cols]\n",
    "X_val = val_inputs[numeric_cols + encoded_cols]\n",
    "X_test = test_inputs[numeric_cols + encoded_cols]"
   ]
  },
  {
   "cell_type": "markdown",
   "id": "07c4ffdb-86c2-4f8c-8a21-16c0b0b0042e",
   "metadata": {},
   "source": [
    "# Create quick & easy baseline models to benchmark future models"
   ]
  },
  {
   "cell_type": "markdown",
   "id": "6364193f-b905-4d90-b73c-0aba54aa1751",
   "metadata": {},
   "source": [
    "### Baseline ML model"
   ]
  },
  {
   "cell_type": "markdown",
   "id": "6951df90-902c-4d8c-94b3-a810c4829ac2",
   "metadata": {},
   "source": [
    "Let's train a simple LinearRegression model, with no customization."
   ]
  },
  {
   "cell_type": "code",
   "execution_count": 40,
   "id": "f8181068-63ca-412f-8bcd-bebdfbee7e4c",
   "metadata": {},
   "outputs": [],
   "source": [
    "from sklearn.linear_model import LinearRegression"
   ]
  },
  {
   "cell_type": "code",
   "execution_count": 41,
   "id": "be86671f-9205-4011-b819-dabfa51c77e8",
   "metadata": {},
   "outputs": [],
   "source": [
    "linreg = LinearRegression()"
   ]
  },
  {
   "cell_type": "code",
   "execution_count": 42,
   "id": "343e14e6-8b72-4720-b201-75c6b7b730b1",
   "metadata": {},
   "outputs": [
    {
     "data": {
      "text/html": [
       "<style>#sk-container-id-1 {color: black;background-color: white;}#sk-container-id-1 pre{padding: 0;}#sk-container-id-1 div.sk-toggleable {background-color: white;}#sk-container-id-1 label.sk-toggleable__label {cursor: pointer;display: block;width: 100%;margin-bottom: 0;padding: 0.3em;box-sizing: border-box;text-align: center;}#sk-container-id-1 label.sk-toggleable__label-arrow:before {content: \"▸\";float: left;margin-right: 0.25em;color: #696969;}#sk-container-id-1 label.sk-toggleable__label-arrow:hover:before {color: black;}#sk-container-id-1 div.sk-estimator:hover label.sk-toggleable__label-arrow:before {color: black;}#sk-container-id-1 div.sk-toggleable__content {max-height: 0;max-width: 0;overflow: hidden;text-align: left;background-color: #f0f8ff;}#sk-container-id-1 div.sk-toggleable__content pre {margin: 0.2em;color: black;border-radius: 0.25em;background-color: #f0f8ff;}#sk-container-id-1 input.sk-toggleable__control:checked~div.sk-toggleable__content {max-height: 200px;max-width: 100%;overflow: auto;}#sk-container-id-1 input.sk-toggleable__control:checked~label.sk-toggleable__label-arrow:before {content: \"▾\";}#sk-container-id-1 div.sk-estimator input.sk-toggleable__control:checked~label.sk-toggleable__label {background-color: #d4ebff;}#sk-container-id-1 div.sk-label input.sk-toggleable__control:checked~label.sk-toggleable__label {background-color: #d4ebff;}#sk-container-id-1 input.sk-hidden--visually {border: 0;clip: rect(1px 1px 1px 1px);clip: rect(1px, 1px, 1px, 1px);height: 1px;margin: -1px;overflow: hidden;padding: 0;position: absolute;width: 1px;}#sk-container-id-1 div.sk-estimator {font-family: monospace;background-color: #f0f8ff;border: 1px dotted black;border-radius: 0.25em;box-sizing: border-box;margin-bottom: 0.5em;}#sk-container-id-1 div.sk-estimator:hover {background-color: #d4ebff;}#sk-container-id-1 div.sk-parallel-item::after {content: \"\";width: 100%;border-bottom: 1px solid gray;flex-grow: 1;}#sk-container-id-1 div.sk-label:hover label.sk-toggleable__label {background-color: #d4ebff;}#sk-container-id-1 div.sk-serial::before {content: \"\";position: absolute;border-left: 1px solid gray;box-sizing: border-box;top: 0;bottom: 0;left: 50%;z-index: 0;}#sk-container-id-1 div.sk-serial {display: flex;flex-direction: column;align-items: center;background-color: white;padding-right: 0.2em;padding-left: 0.2em;position: relative;}#sk-container-id-1 div.sk-item {position: relative;z-index: 1;}#sk-container-id-1 div.sk-parallel {display: flex;align-items: stretch;justify-content: center;background-color: white;position: relative;}#sk-container-id-1 div.sk-item::before, #sk-container-id-1 div.sk-parallel-item::before {content: \"\";position: absolute;border-left: 1px solid gray;box-sizing: border-box;top: 0;bottom: 0;left: 50%;z-index: -1;}#sk-container-id-1 div.sk-parallel-item {display: flex;flex-direction: column;z-index: 1;position: relative;background-color: white;}#sk-container-id-1 div.sk-parallel-item:first-child::after {align-self: flex-end;width: 50%;}#sk-container-id-1 div.sk-parallel-item:last-child::after {align-self: flex-start;width: 50%;}#sk-container-id-1 div.sk-parallel-item:only-child::after {width: 0;}#sk-container-id-1 div.sk-dashed-wrapped {border: 1px dashed gray;margin: 0 0.4em 0.5em 0.4em;box-sizing: border-box;padding-bottom: 0.4em;background-color: white;}#sk-container-id-1 div.sk-label label {font-family: monospace;font-weight: bold;display: inline-block;line-height: 1.2em;}#sk-container-id-1 div.sk-label-container {text-align: center;}#sk-container-id-1 div.sk-container {/* jupyter's `normalize.less` sets `[hidden] { display: none; }` but bootstrap.min.css set `[hidden] { display: none !important; }` so we also need the `!important` here to be able to override the default hidden behavior on the sphinx rendered scikit-learn.org. See: https://github.com/scikit-learn/scikit-learn/issues/21755 */display: inline-block !important;position: relative;}#sk-container-id-1 div.sk-text-repr-fallback {display: none;}</style><div id=\"sk-container-id-1\" class=\"sk-top-container\"><div class=\"sk-text-repr-fallback\"><pre>LinearRegression()</pre><b>In a Jupyter environment, please rerun this cell to show the HTML representation or trust the notebook. <br />On GitHub, the HTML representation is unable to render, please try loading this page with nbviewer.org.</b></div><div class=\"sk-container\" hidden><div class=\"sk-item\"><div class=\"sk-estimator sk-toggleable\"><input class=\"sk-toggleable__control sk-hidden--visually\" id=\"sk-estimator-id-1\" type=\"checkbox\" checked><label for=\"sk-estimator-id-1\" class=\"sk-toggleable__label sk-toggleable__label-arrow\">LinearRegression</label><div class=\"sk-toggleable__content\"><pre>LinearRegression()</pre></div></div></div></div></div>"
      ],
      "text/plain": [
       "LinearRegression()"
      ]
     },
     "execution_count": 42,
     "metadata": {},
     "output_type": "execute_result"
    }
   ],
   "source": [
    "linreg.fit(X_train,train_targets)"
   ]
  },
  {
   "cell_type": "code",
   "execution_count": 43,
   "id": "ad4d7ff0-55ed-406e-a065-66cc946f56b0",
   "metadata": {},
   "outputs": [
    {
     "data": {
      "text/plain": [
       "array([ 9.60051245, 12.06549551,  9.37199312, ...,  8.87791627,\n",
       "       10.94990817,  7.24969522])"
      ]
     },
     "execution_count": 43,
     "metadata": {},
     "output_type": "execute_result"
    }
   ],
   "source": [
    "train_preds = linreg.predict(X_train)\n",
    "train_preds"
   ]
  },
  {
   "cell_type": "code",
   "execution_count": 44,
   "id": "8331a184-aaf0-4d08-a42b-51b74f735881",
   "metadata": {},
   "outputs": [],
   "source": [
    "train_preds = np.where(train_preds < 0, 0, train_preds)"
   ]
  },
  {
   "cell_type": "code",
   "execution_count": 45,
   "id": "fe6aafdb-c5c9-4509-b83c-ed5b0e0301d0",
   "metadata": {},
   "outputs": [
    {
     "data": {
      "text/plain": [
       "0"
      ]
     },
     "execution_count": 45,
     "metadata": {},
     "output_type": "execute_result"
    }
   ],
   "source": [
    "negative_count = (train_preds < 0).sum()\n",
    "negative_count"
   ]
  },
  {
   "cell_type": "code",
   "execution_count": 46,
   "id": "518651a1-6b39-4a38-a052-983b60dcfdb7",
   "metadata": {},
   "outputs": [],
   "source": [
    "from sklearn.metrics import mean_squared_log_error"
   ]
  },
  {
   "cell_type": "code",
   "execution_count": 47,
   "id": "07a64a62-a31c-4557-aa08-f188d8b5ef24",
   "metadata": {},
   "outputs": [
    {
     "data": {
      "text/plain": [
       "0.16444584867631148"
      ]
     },
     "execution_count": 47,
     "metadata": {},
     "output_type": "execute_result"
    }
   ],
   "source": [
    "mean_squared_log_error(train_targets, train_preds, squared=False)"
   ]
  },
  {
   "cell_type": "code",
   "execution_count": 48,
   "id": "94d7626e-92cd-463c-a99e-9d4d3321b3e8",
   "metadata": {},
   "outputs": [],
   "source": [
    "val_preds = linreg.predict(X_val)"
   ]
  },
  {
   "cell_type": "code",
   "execution_count": 49,
   "id": "2d50f1e4-3597-405e-bf3c-6b6863cc0832",
   "metadata": {},
   "outputs": [],
   "source": [
    "val_preds = np.where(val_preds < 0, 0, val_preds)"
   ]
  },
  {
   "cell_type": "code",
   "execution_count": 50,
   "id": "e8bf4a8e-976d-46d7-b78b-ee8991044f29",
   "metadata": {},
   "outputs": [
    {
     "data": {
      "text/plain": [
       "0"
      ]
     },
     "execution_count": 50,
     "metadata": {},
     "output_type": "execute_result"
    }
   ],
   "source": [
    "negative_count = (val_preds < 0).sum()\n",
    "negative_count"
   ]
  },
  {
   "cell_type": "code",
   "execution_count": 51,
   "id": "aeece817-0294-4b7f-9d09-6d974411d5e7",
   "metadata": {},
   "outputs": [
    {
     "data": {
      "text/plain": [
       "0.16677429076547368"
      ]
     },
     "execution_count": 51,
     "metadata": {},
     "output_type": "execute_result"
    }
   ],
   "source": [
    "mean_squared_log_error(val_targets, val_preds, squared=False)"
   ]
  },
  {
   "cell_type": "code",
   "execution_count": 52,
   "id": "e5a02270-909f-4457-b06e-636c03a07c8a",
   "metadata": {},
   "outputs": [
    {
     "data": {
      "text/plain": [
       "numpy.ndarray"
      ]
     },
     "execution_count": 52,
     "metadata": {},
     "output_type": "execute_result"
    }
   ],
   "source": [
    "type(val_preds)"
   ]
  },
  {
   "cell_type": "code",
   "execution_count": 53,
   "id": "c28eea6e-a017-481a-a15a-6b957165a481",
   "metadata": {},
   "outputs": [],
   "source": [
    "rounded_train_preds = np.round(train_preds)"
   ]
  },
  {
   "cell_type": "code",
   "execution_count": 54,
   "id": "6adb67e6-7f67-4d62-b5c8-22092152f698",
   "metadata": {},
   "outputs": [
    {
     "data": {
      "text/plain": [
       "array([10., 12.,  9., ...,  9., 11.,  7.])"
      ]
     },
     "execution_count": 54,
     "metadata": {},
     "output_type": "execute_result"
    }
   ],
   "source": [
    "rounded_train_preds"
   ]
  },
  {
   "cell_type": "code",
   "execution_count": 55,
   "id": "ca018532-22ed-4a36-bcca-38116f9cf5d9",
   "metadata": {},
   "outputs": [
    {
     "data": {
      "text/plain": [
       "0.16691679808422014"
      ]
     },
     "execution_count": 55,
     "metadata": {},
     "output_type": "execute_result"
    }
   ],
   "source": [
    "mean_squared_log_error(train_targets, rounded_train_preds, squared=False)"
   ]
  },
  {
   "cell_type": "code",
   "execution_count": 56,
   "id": "e5be02f5-f408-4163-9f9d-7bd711c77c6c",
   "metadata": {},
   "outputs": [],
   "source": [
    "rounded_val_preds = np.round(val_preds)"
   ]
  },
  {
   "cell_type": "code",
   "execution_count": 57,
   "id": "0ba95a67-095c-428c-99e1-1d59604c9b4e",
   "metadata": {},
   "outputs": [
    {
     "data": {
      "text/plain": [
       "0.16945429944596202"
      ]
     },
     "execution_count": 57,
     "metadata": {},
     "output_type": "execute_result"
    }
   ],
   "source": [
    "mean_squared_log_error(val_targets, rounded_val_preds, squared=False)"
   ]
  },
  {
   "cell_type": "markdown",
   "id": "9fad77d4-ff7f-49eb-9178-709eae22f1ac",
   "metadata": {},
   "source": [
    "### baseline models to benchmark for trainig : 0.1669, validation : 0.1694"
   ]
  },
  {
   "cell_type": "markdown",
   "id": "798a6dd2-b0ac-42bb-a1d1-fb1bcdf7f099",
   "metadata": {},
   "source": [
    "## Make baseline models Predictions and Submit to Kaggle"
   ]
  },
  {
   "cell_type": "code",
   "execution_count": 58,
   "id": "8a71d6d7-098f-4788-a419-ab9df9bbfa65",
   "metadata": {},
   "outputs": [],
   "source": [
    "test_preds = (np.round(linreg.predict(X_test),decimals=0)).astype(int)"
   ]
  },
  {
   "cell_type": "code",
   "execution_count": 59,
   "id": "fa948867-8944-42c6-bdd2-3a7a61c21153",
   "metadata": {},
   "outputs": [
    {
     "data": {
      "text/plain": [
       "array([ 9, 10, 10, ..., 11, 14,  9])"
      ]
     },
     "execution_count": 59,
     "metadata": {},
     "output_type": "execute_result"
    }
   ],
   "source": [
    "test_preds"
   ]
  },
  {
   "cell_type": "code",
   "execution_count": 60,
   "id": "5ced179e-1529-4063-a9d2-139435a053ef",
   "metadata": {},
   "outputs": [
    {
     "data": {
      "text/plain": [
       "dtype('int32')"
      ]
     },
     "execution_count": 60,
     "metadata": {},
     "output_type": "execute_result"
    }
   ],
   "source": [
    "test_preds_type = test_preds.dtype\n",
    "test_preds_type"
   ]
  },
  {
   "cell_type": "code",
   "execution_count": 61,
   "id": "de0849ed-0ee1-42ad-b907-d0dd79cb390b",
   "metadata": {},
   "outputs": [],
   "source": [
    "test_preds = np.where(test_preds < 0, 0, test_preds)"
   ]
  },
  {
   "cell_type": "code",
   "execution_count": 62,
   "id": "95eb005b-e074-47e5-943f-c54262de7c9a",
   "metadata": {},
   "outputs": [],
   "source": [
    "submission_df['Rings'] = test_preds"
   ]
  },
  {
   "cell_type": "code",
   "execution_count": 63,
   "id": "d13e8204-8d1b-4e9c-8645-96274fbf4fbd",
   "metadata": {},
   "outputs": [
    {
     "data": {
      "text/html": [
       "<div>\n",
       "<style scoped>\n",
       "    .dataframe tbody tr th:only-of-type {\n",
       "        vertical-align: middle;\n",
       "    }\n",
       "\n",
       "    .dataframe tbody tr th {\n",
       "        vertical-align: top;\n",
       "    }\n",
       "\n",
       "    .dataframe thead th {\n",
       "        text-align: right;\n",
       "    }\n",
       "</style>\n",
       "<table border=\"1\" class=\"dataframe\">\n",
       "  <thead>\n",
       "    <tr style=\"text-align: right;\">\n",
       "      <th></th>\n",
       "      <th>id</th>\n",
       "      <th>Rings</th>\n",
       "    </tr>\n",
       "  </thead>\n",
       "  <tbody>\n",
       "    <tr>\n",
       "      <th>0</th>\n",
       "      <td>90615</td>\n",
       "      <td>9</td>\n",
       "    </tr>\n",
       "    <tr>\n",
       "      <th>1</th>\n",
       "      <td>90616</td>\n",
       "      <td>10</td>\n",
       "    </tr>\n",
       "    <tr>\n",
       "      <th>2</th>\n",
       "      <td>90617</td>\n",
       "      <td>10</td>\n",
       "    </tr>\n",
       "    <tr>\n",
       "      <th>3</th>\n",
       "      <td>90618</td>\n",
       "      <td>11</td>\n",
       "    </tr>\n",
       "    <tr>\n",
       "      <th>4</th>\n",
       "      <td>90619</td>\n",
       "      <td>8</td>\n",
       "    </tr>\n",
       "    <tr>\n",
       "      <th>...</th>\n",
       "      <td>...</td>\n",
       "      <td>...</td>\n",
       "    </tr>\n",
       "    <tr>\n",
       "      <th>60406</th>\n",
       "      <td>151021</td>\n",
       "      <td>7</td>\n",
       "    </tr>\n",
       "    <tr>\n",
       "      <th>60407</th>\n",
       "      <td>151022</td>\n",
       "      <td>9</td>\n",
       "    </tr>\n",
       "    <tr>\n",
       "      <th>60408</th>\n",
       "      <td>151023</td>\n",
       "      <td>11</td>\n",
       "    </tr>\n",
       "    <tr>\n",
       "      <th>60409</th>\n",
       "      <td>151024</td>\n",
       "      <td>14</td>\n",
       "    </tr>\n",
       "    <tr>\n",
       "      <th>60410</th>\n",
       "      <td>151025</td>\n",
       "      <td>9</td>\n",
       "    </tr>\n",
       "  </tbody>\n",
       "</table>\n",
       "<p>60411 rows × 2 columns</p>\n",
       "</div>"
      ],
      "text/plain": [
       "           id  Rings\n",
       "0       90615      9\n",
       "1       90616     10\n",
       "2       90617     10\n",
       "3       90618     11\n",
       "4       90619      8\n",
       "...       ...    ...\n",
       "60406  151021      7\n",
       "60407  151022      9\n",
       "60408  151023     11\n",
       "60409  151024     14\n",
       "60410  151025      9\n",
       "\n",
       "[60411 rows x 2 columns]"
      ]
     },
     "execution_count": 63,
     "metadata": {},
     "output_type": "execute_result"
    }
   ],
   "source": [
    "submission_df"
   ]
  },
  {
   "cell_type": "code",
   "execution_count": 64,
   "id": "26804684-4bae-41f2-86d9-64c8a8761506",
   "metadata": {},
   "outputs": [],
   "source": [
    "submission_df.to_csv('Abalone_linear_model_submmision.csv', index = None)"
   ]
  },
  {
   "cell_type": "markdown",
   "id": "b0b745f6-8f11-49e4-ac63-7ca59dc6dc90",
   "metadata": {},
   "source": [
    "# Pick a strategy, train a model & tune hyperparameters"
   ]
  },
  {
   "cell_type": "code",
   "execution_count": 65,
   "id": "d981e458-4d47-4743-811e-b9df23296d3f",
   "metadata": {},
   "outputs": [],
   "source": [
    "def try_model(model):\n",
    "    # Fit the model\n",
    "    model.fit(X_train, train_targets)\n",
    "    \n",
    "    # Generate predictions\n",
    "    train_preds = np.round(model.predict(X_train)).astype(int)\n",
    "    val_preds = np.round(model.predict(X_val)).astype(int)\n",
    "    \n",
    "    # Compute RMSE\n",
    "    train_rmsle = mean_squared_log_error(train_targets, train_preds, squared=False)\n",
    "    val_rmsle = mean_squared_log_error(val_targets, val_preds, squared=False)\n",
    "    return train_rmsle, val_rmsle,val_preds"
   ]
  },
  {
   "cell_type": "markdown",
   "id": "010022f1-a80e-486b-a324-2a49b8cbd07c",
   "metadata": {},
   "source": [
    "## Helper function to generate submission csv"
   ]
  },
  {
   "cell_type": "code",
   "execution_count": 36,
   "id": "dbdc30d2-f92a-4fb8-af27-149100c09cdf",
   "metadata": {},
   "outputs": [],
   "source": [
    "def predict_and_submit(model, fname):\n",
    "    test_preds = np.round(model.predict(X_test)).astype(int)\n",
    "    submission_df['Rings'] = test_preds\n",
    "    submission_df.to_csv(fname, index=None)\n",
    "    return submission_df"
   ]
  },
  {
   "cell_type": "markdown",
   "id": "23fd9fd5-39cb-4cd3-94d2-15b730688262",
   "metadata": {},
   "source": [
    "# Training a Random Forest"
   ]
  },
  {
   "cell_type": "code",
   "execution_count": 67,
   "id": "da491de2-24d7-4cb3-a197-cb9e119789da",
   "metadata": {},
   "outputs": [],
   "source": [
    "from sklearn.ensemble import RandomForestRegressor"
   ]
  },
  {
   "cell_type": "code",
   "execution_count": 68,
   "id": "e040261e-0be6-4e45-9ea4-94e9006c4540",
   "metadata": {},
   "outputs": [],
   "source": [
    "model = RandomForestRegressor(n_jobs=-1, random_state=42)"
   ]
  },
  {
   "cell_type": "code",
   "execution_count": 69,
   "id": "87cd06ae-067d-4111-a69f-e3738aac77bf",
   "metadata": {},
   "outputs": [
    {
     "data": {
      "text/plain": [
       "(0.062493962316181276,\n",
       " 0.15878715255648845,\n",
       " array([ 8,  7, 10, ..., 10, 11, 11]))"
      ]
     },
     "execution_count": 69,
     "metadata": {},
     "output_type": "execute_result"
    }
   ],
   "source": [
    "try_model(model)"
   ]
  },
  {
   "cell_type": "markdown",
   "id": "070aec3a-6dcb-4555-808f-6cb86b85c6e9",
   "metadata": {},
   "source": [
    "# Hyperparameter Tuning with Random Forests"
   ]
  },
  {
   "cell_type": "markdown",
   "id": "cddb5376-8483-4462-b780-6ffcb917f95e",
   "metadata": {},
   "source": [
    "### n_estimators"
   ]
  },
  {
   "cell_type": "markdown",
   "id": "66389ac6-4787-43d8-96e1-6d2759ed49a1",
   "metadata": {},
   "source": [
    "results = []"
   ]
  },
  {
   "cell_type": "markdown",
   "id": "9e09f2ad-1f71-49af-992d-806eddd860d4",
   "metadata": {},
   "source": [
    "for n_estimators in range(50, 301, 50):\n",
    "    model = RandomForestRegressor(n_estimators=n_estimators, random_state=42)\n",
    "    train_rmsle, val_rmsle, val_preds = try_model(model)\n",
    "    results.append((n_estimators, train_rmsle, val_rmsle))"
   ]
  },
  {
   "cell_type": "markdown",
   "id": "952e526c-67e4-4ca0-8a48-71847a3bbfbd",
   "metadata": {},
   "source": [
    "import matplotlib.pyplot as plt\n",
    "%matplotlib inline"
   ]
  },
  {
   "cell_type": "markdown",
   "id": "2a00fa20-4a9c-451a-b813-78b54f8d8061",
   "metadata": {},
   "source": [
    "n_estimators_list = [result[0] for result in results]\n",
    "val_rmsle_list = [result[2] for result in results]\n",
    "\n",
    "plt.figure(figsize=(10, 6))\n",
    "plt.plot(n_estimators_list, val_rmsle_list, marker='o')\n",
    "plt.xlabel('Number of Estimators (n_estimators)')\n",
    "plt.ylabel('Validation RMSLE')\n",
    "plt.title('Validation RMSLE vs Number of Estimators')"
   ]
  },
  {
   "cell_type": "markdown",
   "id": "6c0d7b9f-6c0b-4a9a-88dd-026b6a71a54d",
   "metadata": {},
   "source": [
    "best_n_estimators = min(results, key=lambda x: x[2])[0]\n",
    "print(f\"Best n_estimators: {best_n_estimators}\")"
   ]
  },
  {
   "cell_type": "markdown",
   "id": "373cf797-3049-46ef-8340-aee2775e491e",
   "metadata": {},
   "source": [
    "## max_depth and max_leaf_nodes"
   ]
  },
  {
   "cell_type": "markdown",
   "id": "810e9d32-733a-43d7-afd6-2cfd815fe962",
   "metadata": {},
   "source": [
    "def test_params(**params):\n",
    "    model = RandomForestRegressor(random_state=42, n_jobs=-1,n_estimators = 250, **params)\n",
    "    return try_model(model)"
   ]
  },
  {
   "cell_type": "markdown",
   "id": "5f61135b-d0d3-46de-96b1-bacb38e69da3",
   "metadata": {},
   "source": [
    "results = []"
   ]
  },
  {
   "cell_type": "markdown",
   "id": "df776cac-741b-4f01-87dc-1de19846ecc2",
   "metadata": {},
   "source": [
    "for max_depth in range(5,21,5):\n",
    "    train_rmsle, val_rmsle, val_preds = test_params(max_depth = max_depth)\n",
    "    results.append((max_depth, train_rmsle, val_rmsle))"
   ]
  },
  {
   "cell_type": "markdown",
   "id": "f0795088-f22b-4fc1-8c30-fbc0903d94a8",
   "metadata": {},
   "source": [
    "max_depth_list = [result[0] for result in results]\n",
    "val_rmsle_list = [result[2] for result in results]\n",
    "\n",
    "plt.figure(figsize=(10, 6))\n",
    "plt.plot(max_depth_list, val_rmsle_list, marker='o')\n",
    "plt.xlabel('Max Depth')\n",
    "plt.ylabel('Validation RMSLE')\n",
    "plt.title('Validation RMSLE vs Max Depth')"
   ]
  },
  {
   "cell_type": "code",
   "execution_count": null,
   "id": "073fe19a-a35a-453b-9ab5-1969bf9d8ad7",
   "metadata": {},
   "outputs": [],
   "source": [
    "best_max_depth = min(results, key=lambda x: x[2])[0]\n",
    "print(f\"Best max_depth: {best_max_depth}\")"
   ]
  },
  {
   "cell_type": "code",
   "execution_count": null,
   "id": "cb396c1d-eaea-4cdd-bdef-05a33172e06f",
   "metadata": {},
   "outputs": [],
   "source": [
    "results = []"
   ]
  },
  {
   "cell_type": "code",
   "execution_count": null,
   "id": "187157df-04ba-4972-b049-66028864bb10",
   "metadata": {},
   "outputs": [],
   "source": [
    "for max_leaf_nodes in range(5,31,5):\n",
    "    train_rmsle, val_rmsle, val_preds = test_params(max_depth = 15, max_leaf_nodes = max_leaf_nodes)\n",
    "    results.append((max_leaf_nodes, train_rmsle, val_rmsle))"
   ]
  },
  {
   "cell_type": "code",
   "execution_count": null,
   "id": "1b39d118-d838-4858-9144-41d5cfdf6713",
   "metadata": {},
   "outputs": [],
   "source": [
    "max_leaf_nodes_list = [result[0] for result in results]\n",
    "val_rmsle_list = [result[2] for result in results]\n",
    "\n",
    "plt.figure(figsize=(10, 6))\n",
    "plt.plot(max_leaf_nodes_list, val_rmsle_list, marker='o')\n",
    "plt.xlabel('Max Leaf Nodes')\n",
    "plt.ylabel('Validation RMSLE')\n",
    "plt.title('Validation RMSLE vs Max Leaf Nodes')"
   ]
  },
  {
   "cell_type": "markdown",
   "id": "76df02df-303e-4897-be2b-e1601193fc22",
   "metadata": {},
   "source": [
    "## max_features"
   ]
  },
  {
   "cell_type": "code",
   "execution_count": null,
   "id": "fb4347e7-80c5-47df-9834-0f2b0a7be3e9",
   "metadata": {},
   "outputs": [],
   "source": [
    "results = []"
   ]
  },
  {
   "cell_type": "code",
   "execution_count": null,
   "id": "7bad8fb9-d24e-463a-aac9-634a5b80d5e2",
   "metadata": {},
   "outputs": [],
   "source": [
    "for max_features in range(3,13,3):\n",
    "    train_rmsle, val_rmsle, val_preds = test_params(max_depth = 15, max_features = max_features)\n",
    "    results.append((max_features, train_rmsle, val_rmsle))"
   ]
  },
  {
   "cell_type": "code",
   "execution_count": null,
   "id": "ca175882-14ef-4f84-af49-1cc41b21d052",
   "metadata": {},
   "outputs": [],
   "source": [
    "max_features_list = [str(result[0]) for result in results]\n",
    "val_rmsle_list = [result[2] for result in results]\n",
    "\n",
    "plt.figure(figsize=(10, 6))\n",
    "plt.plot(max_features_list, val_rmsle_list, marker='o')\n",
    "plt.xlabel('Max Features')\n",
    "plt.ylabel('Validation RMSLE')\n",
    "plt.title('Validation RMSLE vs Max Features')"
   ]
  },
  {
   "cell_type": "markdown",
   "id": "189144fc-1a5f-4b4d-9ca9-49dce27cd4cc",
   "metadata": {},
   "source": [
    "## Putting it together"
   ]
  },
  {
   "cell_type": "code",
   "execution_count": null,
   "id": "e690c883-ff25-4f6d-bf5b-73f307f8719f",
   "metadata": {},
   "outputs": [],
   "source": [
    "model = RandomForestRegressor(n_jobs=-1, \n",
    "                               random_state=42, \n",
    "                               n_estimators=250,\n",
    "                               max_depth=15)"
   ]
  },
  {
   "cell_type": "code",
   "execution_count": null,
   "id": "ea7c6c2b-afd1-4d5d-9c3f-5577ec98b329",
   "metadata": {},
   "outputs": [],
   "source": [
    "model.fit(X_train,train_targets)"
   ]
  },
  {
   "cell_type": "code",
   "execution_count": null,
   "id": "27f8730f-d51c-4086-9422-123da88c0825",
   "metadata": {},
   "outputs": [],
   "source": [
    "predict_and_submit(model,'Abalone_RF_model_submmision.csv')"
   ]
  },
  {
   "cell_type": "markdown",
   "id": "dbe3b12b-5208-4c62-b55a-5cef6650bfd4",
   "metadata": {},
   "source": [
    "# Feature Engineering"
   ]
  },
  {
   "cell_type": "markdown",
   "id": "f3837b08-196f-487b-afe8-e0eb1dec3d11",
   "metadata": {},
   "source": [
    "## Adding volume of Abalone"
   ]
  },
  {
   "cell_type": "code",
   "execution_count": 37,
   "id": "a54595f1-3719-4f33-8b10-130b4f97d9ea",
   "metadata": {},
   "outputs": [],
   "source": [
    "import numpy as np"
   ]
  },
  {
   "cell_type": "code",
   "execution_count": 47,
   "id": "79e27bef-d318-4a18-8601-686c50c3dfb7",
   "metadata": {},
   "outputs": [],
   "source": [
    "import math"
   ]
  },
  {
   "cell_type": "code",
   "execution_count": 48,
   "id": "e050f488-9963-4a36-96d7-8eba331be492",
   "metadata": {},
   "outputs": [],
   "source": [
    "def volume(height, length, diameter):\n",
    "    volume = (4/3) * math.pi * (length/2) * (diameter/2) * (height/2)\n",
    "    return volume"
   ]
  },
  {
   "cell_type": "code",
   "execution_count": 49,
   "id": "e2dbbf97-e061-4241-ac9c-2e001340f0f7",
   "metadata": {},
   "outputs": [],
   "source": [
    "def add_vol(df):\n",
    "    df['volume'] = volume(df['Height'], df['Length'], df['Diameter'])"
   ]
  },
  {
   "cell_type": "code",
   "execution_count": 50,
   "id": "81ba51e5-fcec-4a83-a7c7-503a74156097",
   "metadata": {},
   "outputs": [],
   "source": [
    "add_vol(X_train)"
   ]
  },
  {
   "cell_type": "code",
   "execution_count": 51,
   "id": "29d942f4-b080-4ecb-a461-fcfccd300d4f",
   "metadata": {},
   "outputs": [],
   "source": [
    "add_vol(X_val)"
   ]
  },
  {
   "cell_type": "code",
   "execution_count": 52,
   "id": "5eb3f14c-a6f3-414c-91de-90c442267616",
   "metadata": {},
   "outputs": [],
   "source": [
    "add_vol(X_test)"
   ]
  },
  {
   "cell_type": "code",
   "execution_count": 53,
   "id": "106007dc-6414-4bbd-9bed-ac7bcd98875d",
   "metadata": {},
   "outputs": [
    {
     "data": {
      "text/html": [
       "<div>\n",
       "<style scoped>\n",
       "    .dataframe tbody tr th:only-of-type {\n",
       "        vertical-align: middle;\n",
       "    }\n",
       "\n",
       "    .dataframe tbody tr th {\n",
       "        vertical-align: top;\n",
       "    }\n",
       "\n",
       "    .dataframe thead th {\n",
       "        text-align: right;\n",
       "    }\n",
       "</style>\n",
       "<table border=\"1\" class=\"dataframe\">\n",
       "  <thead>\n",
       "    <tr style=\"text-align: right;\">\n",
       "      <th></th>\n",
       "      <th>Length</th>\n",
       "      <th>Diameter</th>\n",
       "      <th>Height</th>\n",
       "      <th>Whole weight</th>\n",
       "      <th>Whole weight.1</th>\n",
       "      <th>Whole weight.2</th>\n",
       "      <th>Shell weight</th>\n",
       "      <th>Sex_F</th>\n",
       "      <th>Sex_I</th>\n",
       "      <th>Sex_M</th>\n",
       "      <th>volume</th>\n",
       "    </tr>\n",
       "  </thead>\n",
       "  <tbody>\n",
       "    <tr>\n",
       "      <th>43718</th>\n",
       "      <td>0.650</td>\n",
       "      <td>0.505</td>\n",
       "      <td>0.175</td>\n",
       "      <td>1.3850</td>\n",
       "      <td>0.7105</td>\n",
       "      <td>0.3020</td>\n",
       "      <td>0.360</td>\n",
       "      <td>0.0</td>\n",
       "      <td>0.0</td>\n",
       "      <td>1.0</td>\n",
       "      <td>0.030077</td>\n",
       "    </tr>\n",
       "    <tr>\n",
       "      <th>45247</th>\n",
       "      <td>0.670</td>\n",
       "      <td>0.520</td>\n",
       "      <td>0.195</td>\n",
       "      <td>1.5405</td>\n",
       "      <td>0.6370</td>\n",
       "      <td>0.3455</td>\n",
       "      <td>0.385</td>\n",
       "      <td>1.0</td>\n",
       "      <td>0.0</td>\n",
       "      <td>0.0</td>\n",
       "      <td>0.035572</td>\n",
       "    </tr>\n",
       "    <tr>\n",
       "      <th>71393</th>\n",
       "      <td>0.605</td>\n",
       "      <td>0.495</td>\n",
       "      <td>0.150</td>\n",
       "      <td>1.1345</td>\n",
       "      <td>0.5585</td>\n",
       "      <td>0.2470</td>\n",
       "      <td>0.285</td>\n",
       "      <td>0.0</td>\n",
       "      <td>0.0</td>\n",
       "      <td>1.0</td>\n",
       "      <td>0.023521</td>\n",
       "    </tr>\n",
       "    <tr>\n",
       "      <th>51688</th>\n",
       "      <td>0.680</td>\n",
       "      <td>0.560</td>\n",
       "      <td>0.200</td>\n",
       "      <td>1.5340</td>\n",
       "      <td>0.6900</td>\n",
       "      <td>0.3060</td>\n",
       "      <td>0.440</td>\n",
       "      <td>0.0</td>\n",
       "      <td>0.0</td>\n",
       "      <td>1.0</td>\n",
       "      <td>0.039877</td>\n",
       "    </tr>\n",
       "    <tr>\n",
       "      <th>40681</th>\n",
       "      <td>0.295</td>\n",
       "      <td>0.200</td>\n",
       "      <td>0.075</td>\n",
       "      <td>0.1075</td>\n",
       "      <td>0.0350</td>\n",
       "      <td>0.0190</td>\n",
       "      <td>0.038</td>\n",
       "      <td>0.0</td>\n",
       "      <td>1.0</td>\n",
       "      <td>0.0</td>\n",
       "      <td>0.002317</td>\n",
       "    </tr>\n",
       "    <tr>\n",
       "      <th>...</th>\n",
       "      <td>...</td>\n",
       "      <td>...</td>\n",
       "      <td>...</td>\n",
       "      <td>...</td>\n",
       "      <td>...</td>\n",
       "      <td>...</td>\n",
       "      <td>...</td>\n",
       "      <td>...</td>\n",
       "      <td>...</td>\n",
       "      <td>...</td>\n",
       "      <td>...</td>\n",
       "    </tr>\n",
       "    <tr>\n",
       "      <th>6265</th>\n",
       "      <td>0.350</td>\n",
       "      <td>0.265</td>\n",
       "      <td>0.080</td>\n",
       "      <td>0.1790</td>\n",
       "      <td>0.0630</td>\n",
       "      <td>0.0380</td>\n",
       "      <td>0.055</td>\n",
       "      <td>0.0</td>\n",
       "      <td>1.0</td>\n",
       "      <td>0.0</td>\n",
       "      <td>0.003885</td>\n",
       "    </tr>\n",
       "    <tr>\n",
       "      <th>54886</th>\n",
       "      <td>0.580</td>\n",
       "      <td>0.460</td>\n",
       "      <td>0.140</td>\n",
       "      <td>0.8435</td>\n",
       "      <td>0.3365</td>\n",
       "      <td>0.1665</td>\n",
       "      <td>0.225</td>\n",
       "      <td>1.0</td>\n",
       "      <td>0.0</td>\n",
       "      <td>0.0</td>\n",
       "      <td>0.019557</td>\n",
       "    </tr>\n",
       "    <tr>\n",
       "      <th>76820</th>\n",
       "      <td>0.530</td>\n",
       "      <td>0.420</td>\n",
       "      <td>0.125</td>\n",
       "      <td>0.5965</td>\n",
       "      <td>0.2505</td>\n",
       "      <td>0.1435</td>\n",
       "      <td>0.170</td>\n",
       "      <td>0.0</td>\n",
       "      <td>1.0</td>\n",
       "      <td>0.0</td>\n",
       "      <td>0.014569</td>\n",
       "    </tr>\n",
       "    <tr>\n",
       "      <th>860</th>\n",
       "      <td>0.695</td>\n",
       "      <td>0.525</td>\n",
       "      <td>0.185</td>\n",
       "      <td>1.8275</td>\n",
       "      <td>0.8850</td>\n",
       "      <td>0.4095</td>\n",
       "      <td>0.499</td>\n",
       "      <td>0.0</td>\n",
       "      <td>0.0</td>\n",
       "      <td>1.0</td>\n",
       "      <td>0.035344</td>\n",
       "    </tr>\n",
       "    <tr>\n",
       "      <th>15795</th>\n",
       "      <td>0.370</td>\n",
       "      <td>0.275</td>\n",
       "      <td>0.095</td>\n",
       "      <td>0.2225</td>\n",
       "      <td>0.0960</td>\n",
       "      <td>0.0455</td>\n",
       "      <td>0.080</td>\n",
       "      <td>0.0</td>\n",
       "      <td>1.0</td>\n",
       "      <td>0.0</td>\n",
       "      <td>0.005061</td>\n",
       "    </tr>\n",
       "  </tbody>\n",
       "</table>\n",
       "<p>72492 rows × 11 columns</p>\n",
       "</div>"
      ],
      "text/plain": [
       "       Length  Diameter  Height  Whole weight  Whole weight.1  Whole weight.2  \\\n",
       "43718   0.650     0.505   0.175        1.3850          0.7105          0.3020   \n",
       "45247   0.670     0.520   0.195        1.5405          0.6370          0.3455   \n",
       "71393   0.605     0.495   0.150        1.1345          0.5585          0.2470   \n",
       "51688   0.680     0.560   0.200        1.5340          0.6900          0.3060   \n",
       "40681   0.295     0.200   0.075        0.1075          0.0350          0.0190   \n",
       "...       ...       ...     ...           ...             ...             ...   \n",
       "6265    0.350     0.265   0.080        0.1790          0.0630          0.0380   \n",
       "54886   0.580     0.460   0.140        0.8435          0.3365          0.1665   \n",
       "76820   0.530     0.420   0.125        0.5965          0.2505          0.1435   \n",
       "860     0.695     0.525   0.185        1.8275          0.8850          0.4095   \n",
       "15795   0.370     0.275   0.095        0.2225          0.0960          0.0455   \n",
       "\n",
       "       Shell weight  Sex_F  Sex_I  Sex_M    volume  \n",
       "43718         0.360    0.0    0.0    1.0  0.030077  \n",
       "45247         0.385    1.0    0.0    0.0  0.035572  \n",
       "71393         0.285    0.0    0.0    1.0  0.023521  \n",
       "51688         0.440    0.0    0.0    1.0  0.039877  \n",
       "40681         0.038    0.0    1.0    0.0  0.002317  \n",
       "...             ...    ...    ...    ...       ...  \n",
       "6265          0.055    0.0    1.0    0.0  0.003885  \n",
       "54886         0.225    1.0    0.0    0.0  0.019557  \n",
       "76820         0.170    0.0    1.0    0.0  0.014569  \n",
       "860           0.499    0.0    0.0    1.0  0.035344  \n",
       "15795         0.080    0.0    1.0    0.0  0.005061  \n",
       "\n",
       "[72492 rows x 11 columns]"
      ]
     },
     "execution_count": 53,
     "metadata": {},
     "output_type": "execute_result"
    }
   ],
   "source": [
    "X_train"
   ]
  },
  {
   "cell_type": "markdown",
   "id": "02129420-e1b4-46f4-9847-972e835fdf63",
   "metadata": {},
   "source": [
    "# Gradient Boosting"
   ]
  },
  {
   "cell_type": "markdown",
   "id": "f5753410-109c-4652-9570-b6708db342ac",
   "metadata": {},
   "source": [
    "## Training"
   ]
  },
  {
   "cell_type": "code",
   "execution_count": 54,
   "id": "9d7b5d47-895b-4390-864c-176913ba8884",
   "metadata": {},
   "outputs": [],
   "source": [
    "from xgboost import XGBRegressor"
   ]
  },
  {
   "cell_type": "code",
   "execution_count": 55,
   "id": "de584f87-ebfe-4974-a9e3-01e05c7ffa6b",
   "metadata": {},
   "outputs": [],
   "source": [
    "model = XGBRegressor(random_state=42, n_jobs=-1, n_estimators=20, max_depth=4)"
   ]
  },
  {
   "cell_type": "code",
   "execution_count": 56,
   "id": "3913a588-ce48-4ddf-8e58-d383bce2ca7a",
   "metadata": {},
   "outputs": [
    {
     "name": "stdout",
     "output_type": "stream",
     "text": [
      "CPU times: total: 1.03 s\n",
      "Wall time: 1.49 s\n"
     ]
    },
    {
     "data": {
      "text/html": [
       "<style>#sk-container-id-1 {color: black;background-color: white;}#sk-container-id-1 pre{padding: 0;}#sk-container-id-1 div.sk-toggleable {background-color: white;}#sk-container-id-1 label.sk-toggleable__label {cursor: pointer;display: block;width: 100%;margin-bottom: 0;padding: 0.3em;box-sizing: border-box;text-align: center;}#sk-container-id-1 label.sk-toggleable__label-arrow:before {content: \"▸\";float: left;margin-right: 0.25em;color: #696969;}#sk-container-id-1 label.sk-toggleable__label-arrow:hover:before {color: black;}#sk-container-id-1 div.sk-estimator:hover label.sk-toggleable__label-arrow:before {color: black;}#sk-container-id-1 div.sk-toggleable__content {max-height: 0;max-width: 0;overflow: hidden;text-align: left;background-color: #f0f8ff;}#sk-container-id-1 div.sk-toggleable__content pre {margin: 0.2em;color: black;border-radius: 0.25em;background-color: #f0f8ff;}#sk-container-id-1 input.sk-toggleable__control:checked~div.sk-toggleable__content {max-height: 200px;max-width: 100%;overflow: auto;}#sk-container-id-1 input.sk-toggleable__control:checked~label.sk-toggleable__label-arrow:before {content: \"▾\";}#sk-container-id-1 div.sk-estimator input.sk-toggleable__control:checked~label.sk-toggleable__label {background-color: #d4ebff;}#sk-container-id-1 div.sk-label input.sk-toggleable__control:checked~label.sk-toggleable__label {background-color: #d4ebff;}#sk-container-id-1 input.sk-hidden--visually {border: 0;clip: rect(1px 1px 1px 1px);clip: rect(1px, 1px, 1px, 1px);height: 1px;margin: -1px;overflow: hidden;padding: 0;position: absolute;width: 1px;}#sk-container-id-1 div.sk-estimator {font-family: monospace;background-color: #f0f8ff;border: 1px dotted black;border-radius: 0.25em;box-sizing: border-box;margin-bottom: 0.5em;}#sk-container-id-1 div.sk-estimator:hover {background-color: #d4ebff;}#sk-container-id-1 div.sk-parallel-item::after {content: \"\";width: 100%;border-bottom: 1px solid gray;flex-grow: 1;}#sk-container-id-1 div.sk-label:hover label.sk-toggleable__label {background-color: #d4ebff;}#sk-container-id-1 div.sk-serial::before {content: \"\";position: absolute;border-left: 1px solid gray;box-sizing: border-box;top: 0;bottom: 0;left: 50%;z-index: 0;}#sk-container-id-1 div.sk-serial {display: flex;flex-direction: column;align-items: center;background-color: white;padding-right: 0.2em;padding-left: 0.2em;position: relative;}#sk-container-id-1 div.sk-item {position: relative;z-index: 1;}#sk-container-id-1 div.sk-parallel {display: flex;align-items: stretch;justify-content: center;background-color: white;position: relative;}#sk-container-id-1 div.sk-item::before, #sk-container-id-1 div.sk-parallel-item::before {content: \"\";position: absolute;border-left: 1px solid gray;box-sizing: border-box;top: 0;bottom: 0;left: 50%;z-index: -1;}#sk-container-id-1 div.sk-parallel-item {display: flex;flex-direction: column;z-index: 1;position: relative;background-color: white;}#sk-container-id-1 div.sk-parallel-item:first-child::after {align-self: flex-end;width: 50%;}#sk-container-id-1 div.sk-parallel-item:last-child::after {align-self: flex-start;width: 50%;}#sk-container-id-1 div.sk-parallel-item:only-child::after {width: 0;}#sk-container-id-1 div.sk-dashed-wrapped {border: 1px dashed gray;margin: 0 0.4em 0.5em 0.4em;box-sizing: border-box;padding-bottom: 0.4em;background-color: white;}#sk-container-id-1 div.sk-label label {font-family: monospace;font-weight: bold;display: inline-block;line-height: 1.2em;}#sk-container-id-1 div.sk-label-container {text-align: center;}#sk-container-id-1 div.sk-container {/* jupyter's `normalize.less` sets `[hidden] { display: none; }` but bootstrap.min.css set `[hidden] { display: none !important; }` so we also need the `!important` here to be able to override the default hidden behavior on the sphinx rendered scikit-learn.org. See: https://github.com/scikit-learn/scikit-learn/issues/21755 */display: inline-block !important;position: relative;}#sk-container-id-1 div.sk-text-repr-fallback {display: none;}</style><div id=\"sk-container-id-1\" class=\"sk-top-container\"><div class=\"sk-text-repr-fallback\"><pre>XGBRegressor(base_score=None, booster=None, callbacks=None,\n",
       "             colsample_bylevel=None, colsample_bynode=None,\n",
       "             colsample_bytree=None, device=None, early_stopping_rounds=None,\n",
       "             enable_categorical=False, eval_metric=None, feature_types=None,\n",
       "             gamma=None, grow_policy=None, importance_type=None,\n",
       "             interaction_constraints=None, learning_rate=None, max_bin=None,\n",
       "             max_cat_threshold=None, max_cat_to_onehot=None,\n",
       "             max_delta_step=None, max_depth=4, max_leaves=None,\n",
       "             min_child_weight=None, missing=nan, monotone_constraints=None,\n",
       "             multi_strategy=None, n_estimators=20, n_jobs=-1,\n",
       "             num_parallel_tree=None, random_state=42, ...)</pre><b>In a Jupyter environment, please rerun this cell to show the HTML representation or trust the notebook. <br />On GitHub, the HTML representation is unable to render, please try loading this page with nbviewer.org.</b></div><div class=\"sk-container\" hidden><div class=\"sk-item\"><div class=\"sk-estimator sk-toggleable\"><input class=\"sk-toggleable__control sk-hidden--visually\" id=\"sk-estimator-id-1\" type=\"checkbox\" checked><label for=\"sk-estimator-id-1\" class=\"sk-toggleable__label sk-toggleable__label-arrow\">XGBRegressor</label><div class=\"sk-toggleable__content\"><pre>XGBRegressor(base_score=None, booster=None, callbacks=None,\n",
       "             colsample_bylevel=None, colsample_bynode=None,\n",
       "             colsample_bytree=None, device=None, early_stopping_rounds=None,\n",
       "             enable_categorical=False, eval_metric=None, feature_types=None,\n",
       "             gamma=None, grow_policy=None, importance_type=None,\n",
       "             interaction_constraints=None, learning_rate=None, max_bin=None,\n",
       "             max_cat_threshold=None, max_cat_to_onehot=None,\n",
       "             max_delta_step=None, max_depth=4, max_leaves=None,\n",
       "             min_child_weight=None, missing=nan, monotone_constraints=None,\n",
       "             multi_strategy=None, n_estimators=20, n_jobs=-1,\n",
       "             num_parallel_tree=None, random_state=42, ...)</pre></div></div></div></div></div>"
      ],
      "text/plain": [
       "XGBRegressor(base_score=None, booster=None, callbacks=None,\n",
       "             colsample_bylevel=None, colsample_bynode=None,\n",
       "             colsample_bytree=None, device=None, early_stopping_rounds=None,\n",
       "             enable_categorical=False, eval_metric=None, feature_types=None,\n",
       "             gamma=None, grow_policy=None, importance_type=None,\n",
       "             interaction_constraints=None, learning_rate=None, max_bin=None,\n",
       "             max_cat_threshold=None, max_cat_to_onehot=None,\n",
       "             max_delta_step=None, max_depth=4, max_leaves=None,\n",
       "             min_child_weight=None, missing=nan, monotone_constraints=None,\n",
       "             multi_strategy=None, n_estimators=20, n_jobs=-1,\n",
       "             num_parallel_tree=None, random_state=42, ...)"
      ]
     },
     "execution_count": 56,
     "metadata": {},
     "output_type": "execute_result"
    }
   ],
   "source": [
    "%%time\n",
    "model.fit(X_train, train_targets)"
   ]
  },
  {
   "cell_type": "markdown",
   "id": "285f3c7c-1e00-45ee-8f3d-32d31e69f475",
   "metadata": {},
   "source": [
    "## Prediction"
   ]
  },
  {
   "cell_type": "code",
   "execution_count": 60,
   "id": "ec6e7d87-2483-4be5-bf52-fcb4616dda39",
   "metadata": {},
   "outputs": [],
   "source": [
    "train_preds= model.predict(X_train)"
   ]
  },
  {
   "cell_type": "code",
   "execution_count": 61,
   "id": "70b034a2-3707-409c-961a-0111653b020d",
   "metadata": {},
   "outputs": [],
   "source": [
    "from sklearn.metrics import mean_squared_log_error"
   ]
  },
  {
   "cell_type": "code",
   "execution_count": 62,
   "id": "2cf28fb0-9b21-4414-b260-b95f93bbc649",
   "metadata": {},
   "outputs": [
    {
     "data": {
      "text/plain": [
       "0.15125051232603207"
      ]
     },
     "execution_count": 62,
     "metadata": {},
     "output_type": "execute_result"
    }
   ],
   "source": [
    "mean_squared_log_error(train_targets,train_preds,squared=False)"
   ]
  },
  {
   "cell_type": "code",
   "execution_count": 63,
   "id": "b213c4c3-489b-4582-8852-b6892e52b36c",
   "metadata": {},
   "outputs": [],
   "source": [
    "val_preds = model.predict(X_val)"
   ]
  },
  {
   "cell_type": "code",
   "execution_count": 64,
   "id": "bb3571e7-8d45-42be-ade8-022df2cbd020",
   "metadata": {},
   "outputs": [
    {
     "data": {
      "text/plain": [
       "0.1558892498415298"
      ]
     },
     "execution_count": 64,
     "metadata": {},
     "output_type": "execute_result"
    }
   ],
   "source": [
    "mean_squared_log_error(val_targets,val_preds,squared=False)"
   ]
  },
  {
   "cell_type": "markdown",
   "id": "21059303-013e-4ca7-8351-7e35e183455e",
   "metadata": {},
   "source": [
    "## Feature importance"
   ]
  },
  {
   "cell_type": "code",
   "execution_count": 65,
   "id": "72f9d50b-141e-4bc5-83fc-bc4587587a23",
   "metadata": {},
   "outputs": [],
   "source": [
    "importance_df = pd.DataFrame({\n",
    "    'feature': X_train.columns,\n",
    "    'importance': model.feature_importances_\n",
    "}).sort_values('importance', ascending=False)"
   ]
  },
  {
   "cell_type": "code",
   "execution_count": 66,
   "id": "3fbd415c-3bde-4bdb-b02c-a92cb73b060b",
   "metadata": {},
   "outputs": [
    {
     "data": {
      "text/html": [
       "<div>\n",
       "<style scoped>\n",
       "    .dataframe tbody tr th:only-of-type {\n",
       "        vertical-align: middle;\n",
       "    }\n",
       "\n",
       "    .dataframe tbody tr th {\n",
       "        vertical-align: top;\n",
       "    }\n",
       "\n",
       "    .dataframe thead th {\n",
       "        text-align: right;\n",
       "    }\n",
       "</style>\n",
       "<table border=\"1\" class=\"dataframe\">\n",
       "  <thead>\n",
       "    <tr style=\"text-align: right;\">\n",
       "      <th></th>\n",
       "      <th>feature</th>\n",
       "      <th>importance</th>\n",
       "    </tr>\n",
       "  </thead>\n",
       "  <tbody>\n",
       "    <tr>\n",
       "      <th>6</th>\n",
       "      <td>Shell weight</td>\n",
       "      <td>0.636331</td>\n",
       "    </tr>\n",
       "    <tr>\n",
       "      <th>4</th>\n",
       "      <td>Whole weight.1</td>\n",
       "      <td>0.102716</td>\n",
       "    </tr>\n",
       "    <tr>\n",
       "      <th>2</th>\n",
       "      <td>Height</td>\n",
       "      <td>0.065229</td>\n",
       "    </tr>\n",
       "    <tr>\n",
       "      <th>8</th>\n",
       "      <td>Sex_I</td>\n",
       "      <td>0.055483</td>\n",
       "    </tr>\n",
       "    <tr>\n",
       "      <th>10</th>\n",
       "      <td>volume</td>\n",
       "      <td>0.046716</td>\n",
       "    </tr>\n",
       "    <tr>\n",
       "      <th>3</th>\n",
       "      <td>Whole weight</td>\n",
       "      <td>0.027135</td>\n",
       "    </tr>\n",
       "    <tr>\n",
       "      <th>0</th>\n",
       "      <td>Length</td>\n",
       "      <td>0.025027</td>\n",
       "    </tr>\n",
       "    <tr>\n",
       "      <th>5</th>\n",
       "      <td>Whole weight.2</td>\n",
       "      <td>0.017251</td>\n",
       "    </tr>\n",
       "    <tr>\n",
       "      <th>1</th>\n",
       "      <td>Diameter</td>\n",
       "      <td>0.012412</td>\n",
       "    </tr>\n",
       "    <tr>\n",
       "      <th>7</th>\n",
       "      <td>Sex_F</td>\n",
       "      <td>0.011700</td>\n",
       "    </tr>\n",
       "    <tr>\n",
       "      <th>9</th>\n",
       "      <td>Sex_M</td>\n",
       "      <td>0.000000</td>\n",
       "    </tr>\n",
       "  </tbody>\n",
       "</table>\n",
       "</div>"
      ],
      "text/plain": [
       "           feature  importance\n",
       "6     Shell weight    0.636331\n",
       "4   Whole weight.1    0.102716\n",
       "2           Height    0.065229\n",
       "8            Sex_I    0.055483\n",
       "10          volume    0.046716\n",
       "3     Whole weight    0.027135\n",
       "0           Length    0.025027\n",
       "5   Whole weight.2    0.017251\n",
       "1         Diameter    0.012412\n",
       "7            Sex_F    0.011700\n",
       "9            Sex_M    0.000000"
      ]
     },
     "execution_count": 66,
     "metadata": {},
     "output_type": "execute_result"
    }
   ],
   "source": [
    "importance_df"
   ]
  },
  {
   "cell_type": "code",
   "execution_count": 68,
   "id": "af9f9b34-2bd6-4b36-80c9-98d099dcb3f9",
   "metadata": {},
   "outputs": [],
   "source": [
    "import matplotlib.pyplot as plt"
   ]
  },
  {
   "cell_type": "code",
   "execution_count": 69,
   "id": "6517b5aa-a2e8-4c47-99aa-e3301d6e2854",
   "metadata": {},
   "outputs": [
    {
     "data": {
      "image/png": "[encoded data removed]",
      "text/plain": [
       "<Figure size 1000x600 with 1 Axes>"
      ]
     },
     "metadata": {},
     "output_type": "display_data"
    }
   ],
   "source": [
    "import seaborn as sns\n",
    "plt.figure(figsize=(10,6))\n",
    "plt.title('Feature Importance')\n",
    "sns.barplot(data=importance_df.head(10), x='importance', y='feature');"
   ]
  },
  {
   "cell_type": "markdown",
   "id": "d49fdd51-9df1-440f-a7a6-f81deb4523c3",
   "metadata": {},
   "source": [
    "# Hyperparameter Tuning and Regularization"
   ]
  },
  {
   "cell_type": "code",
   "execution_count": 72,
   "id": "3e21c1dc-f404-493f-96be-167cabaa7e57",
   "metadata": {},
   "outputs": [],
   "source": [
    "def test_params(**params):\n",
    "    model = XGBRegressor(n_jobs=-1, random_state=42, **params)\n",
    "    model.fit(X_train, train_targets)\n",
    "    train_rmsle = mean_squared_log_error(model.predict(X_train), train_targets,squared=False)\n",
    "    val_rmsle = mean_squared_log_error(model.predict(X_val), val_targets,squared=False)\n",
    "    print('Train RMSLE: {}, Validation RMSLE: {}'.format(train_rmsle, val_rmsle))"
   ]
  },
  {
   "cell_type": "markdown",
   "id": "6eaee59e-dfa7-4eb9-ba57-e388f78fb8f8",
   "metadata": {},
   "source": [
    "## n_estimators"
   ]
  },
  {
   "cell_type": "code",
   "execution_count": 73,
   "id": "c560aeb8-b1a7-4a85-95c8-c08b34a2385b",
   "metadata": {},
   "outputs": [
    {
     "name": "stdout",
     "output_type": "stream",
     "text": [
      "Train RMSLE: 0.14923885887553226, Validation RMSLE: 0.15513609524790162\n"
     ]
    }
   ],
   "source": [
    "test_params(n_estimators=10)"
   ]
  },
  {
   "cell_type": "code",
   "execution_count": 74,
   "id": "a0deaef0-09f4-4301-9e41-7690aac671b3",
   "metadata": {},
   "outputs": [
    {
     "name": "stdout",
     "output_type": "stream",
     "text": [
      "Train RMSLE: 0.1447944767953556, Validation RMSLE: 0.15326104511846717\n"
     ]
    }
   ],
   "source": [
    "test_params(n_estimators=30)"
   ]
  },
  {
   "cell_type": "code",
   "execution_count": 75,
   "id": "8c88a637-5100-4365-94af-26878b43c095",
   "metadata": {},
   "outputs": [
    {
     "name": "stdout",
     "output_type": "stream",
     "text": [
      "Train RMSLE: 0.1385623343801695, Validation RMSLE: 0.15294987357279036\n"
     ]
    }
   ],
   "source": [
    "test_params(n_estimators=80)"
   ]
  },
  {
   "cell_type": "code",
   "execution_count": 76,
   "id": "3ccbc6f4-d786-4471-9915-797528873aca",
   "metadata": {},
   "outputs": [
    {
     "name": "stdout",
     "output_type": "stream",
     "text": [
      "Train RMSLE: 0.13151035357700977, Validation RMSLE: 0.1536364205566884\n"
     ]
    }
   ],
   "source": [
    "test_params(n_estimators=150)"
   ]
  },
  {
   "cell_type": "code",
   "execution_count": 77,
   "id": "01d228a7-94a2-4ea8-811c-81bc6534c3b5",
   "metadata": {},
   "outputs": [
    {
     "name": "stdout",
     "output_type": "stream",
     "text": [
      "Train RMSLE: 0.1361872539593753, Validation RMSLE: 0.1531252164701672\n"
     ]
    }
   ],
   "source": [
    "test_params(n_estimators=100)"
   ]
  },
  {
   "cell_type": "code",
   "execution_count": 78,
   "id": "c8e6bba3-b173-482a-90bf-2f94dfc9e50f",
   "metadata": {},
   "outputs": [
    {
     "name": "stdout",
     "output_type": "stream",
     "text": [
      "Train RMSLE: 0.13965690069275716, Validation RMSLE: 0.1530264986357262\n"
     ]
    }
   ],
   "source": [
    "test_params(n_estimators=70)"
   ]
  },
  {
   "cell_type": "code",
   "execution_count": 83,
   "id": "543a3a12-6740-4ac9-9534-c3c30cec4ef5",
   "metadata": {},
   "outputs": [
    {
     "name": "stdout",
     "output_type": "stream",
     "text": [
      "Train RMSLE: 0.1385623343801695, Validation RMSLE: 0.15294987357279036\n"
     ]
    }
   ],
   "source": [
    "test_params(n_estimators=80)"
   ]
  },
  {
   "cell_type": "markdown",
   "id": "44387c66-0242-47ae-9d62-14eade98cd0f",
   "metadata": {},
   "source": [
    "## max_depth"
   ]
  },
  {
   "cell_type": "code",
   "execution_count": 84,
   "id": "1ccd413a-97ef-4ec2-b066-5e3c83d9c99d",
   "metadata": {},
   "outputs": [
    {
     "name": "stdout",
     "output_type": "stream",
     "text": [
      "Train RMSLE: 0.15165516666599743, Validation RMSLE: 0.15553566607186445\n"
     ]
    }
   ],
   "source": [
    "test_params(max_depth=2)"
   ]
  },
  {
   "cell_type": "code",
   "execution_count": 85,
   "id": "e205e251-564f-4526-bc3d-375adec1cdbb",
   "metadata": {},
   "outputs": [
    {
     "name": "stdout",
     "output_type": "stream",
     "text": [
      "Train RMSLE: 0.1414069568686313, Validation RMSLE: 0.1528666473993208\n"
     ]
    }
   ],
   "source": [
    "test_params(max_depth=5)"
   ]
  },
  {
   "cell_type": "code",
   "execution_count": 86,
   "id": "c20e8574-93f9-4312-b10d-ef9f63cd09b7",
   "metadata": {},
   "outputs": [
    {
     "name": "stdout",
     "output_type": "stream",
     "text": [
      "Train RMSLE: 0.12918576002585172, Validation RMSLE: 0.1542864303089282\n"
     ]
    }
   ],
   "source": [
    "test_params(max_depth=7)"
   ]
  },
  {
   "cell_type": "code",
   "execution_count": 87,
   "id": "21b6abb9-3f2a-4f4a-ae60-61b357bcdf11",
   "metadata": {},
   "outputs": [
    {
     "name": "stdout",
     "output_type": "stream",
     "text": [
      "Train RMSLE: 0.1361872539593753, Validation RMSLE: 0.1531252164701672\n"
     ]
    }
   ],
   "source": [
    "test_params(max_depth=6)"
   ]
  },
  {
   "cell_type": "code",
   "execution_count": 88,
   "id": "3889faf3-51a1-4d7d-b9c3-58e85812dde3",
   "metadata": {},
   "outputs": [
    {
     "name": "stdout",
     "output_type": "stream",
     "text": [
      "Train RMSLE: 0.1455368749168874, Validation RMSLE: 0.1530597019263746\n"
     ]
    }
   ],
   "source": [
    "test_params(max_depth=4)"
   ]
  },
  {
   "cell_type": "markdown",
   "id": "64d1b875-1de6-4ce3-bd97-f3235cefff89",
   "metadata": {},
   "source": [
    "## learning_rate"
   ]
  },
  {
   "cell_type": "code",
   "execution_count": 89,
   "id": "d1f119d6-b1fe-4e3e-9670-82e28661c21e",
   "metadata": {},
   "outputs": [
    {
     "name": "stdout",
     "output_type": "stream",
     "text": [
      "Train RMSLE: 0.21761577030437648, Validation RMSLE: 0.22154970264734\n"
     ]
    }
   ],
   "source": [
    "test_params(n_estimators=80, learning_rate=0.01)"
   ]
  },
  {
   "cell_type": "code",
   "execution_count": 90,
   "id": "9dddb2a5-b698-4452-9f23-1a5e3733aff0",
   "metadata": {},
   "outputs": [
    {
     "name": "stdout",
     "output_type": "stream",
     "text": [
      "Train RMSLE: 0.13065094102068397, Validation RMSLE: 0.1635331373492791\n"
     ]
    }
   ],
   "source": [
    "test_params(n_estimators=80, learning_rate=0.9)"
   ]
  },
  {
   "cell_type": "code",
   "execution_count": 91,
   "id": "63313647-4bfa-42ac-a75d-d59211e498ff",
   "metadata": {},
   "outputs": [
    {
     "name": "stdout",
     "output_type": "stream",
     "text": [
      "Train RMSLE: 0.13114209612442046, Validation RMSLE: 0.16199938272774805\n"
     ]
    }
   ],
   "source": [
    "test_params(n_estimators=80, learning_rate=0.8)"
   ]
  },
  {
   "cell_type": "code",
   "execution_count": 92,
   "id": "c544ac36-ec9e-4111-856c-ef6b60163cc6",
   "metadata": {},
   "outputs": [
    {
     "name": "stdout",
     "output_type": "stream",
     "text": [
      "Train RMSLE: 0.13495299067414834, Validation RMSLE: 0.15573331034623927\n"
     ]
    }
   ],
   "source": [
    "test_params(n_estimators=80, learning_rate=0.5)"
   ]
  },
  {
   "cell_type": "code",
   "execution_count": 99,
   "id": "0e324dbc-6def-45ff-b6b3-8510a0d3eaa8",
   "metadata": {},
   "outputs": [
    {
     "name": "stdout",
     "output_type": "stream",
     "text": [
      "Train RMSLE: 0.1428878292693574, Validation RMSLE: 0.1526763433761913\n"
     ]
    }
   ],
   "source": [
    "test_params(n_estimators=80, learning_rate=0.15)"
   ]
  },
  {
   "cell_type": "markdown",
   "id": "ba752027-20d9-433f-a3f4-f3bdc3f2c5a6",
   "metadata": {},
   "source": [
    "## Putting it Together and Making Predictions"
   ]
  },
  {
   "cell_type": "code",
   "execution_count": 100,
   "id": "70fc4eae-be1f-4924-9075-9509f082a175",
   "metadata": {},
   "outputs": [],
   "source": [
    "model = XGBRegressor(n_jobs=-1, random_state=42, n_estimators=80, \n",
    "                     learning_rate=0.2, max_depth=5)"
   ]
  },
  {
   "cell_type": "code",
   "execution_count": 102,
   "id": "0f77f6ea-59ea-4d96-8358-7166db3ffc11",
   "metadata": {},
   "outputs": [
    {
     "name": "stdout",
     "output_type": "stream",
     "text": [
      "CPU times: total: 1.5 s\n",
      "Wall time: 232 ms\n"
     ]
    },
    {
     "data": {
      "text/html": [
       "<style>#sk-container-id-2 {color: black;background-color: white;}#sk-container-id-2 pre{padding: 0;}#sk-container-id-2 div.sk-toggleable {background-color: white;}#sk-container-id-2 label.sk-toggleable__label {cursor: pointer;display: block;width: 100%;margin-bottom: 0;padding: 0.3em;box-sizing: border-box;text-align: center;}#sk-container-id-2 label.sk-toggleable__label-arrow:before {content: \"▸\";float: left;margin-right: 0.25em;color: #696969;}#sk-container-id-2 label.sk-toggleable__label-arrow:hover:before {color: black;}#sk-container-id-2 div.sk-estimator:hover label.sk-toggleable__label-arrow:before {color: black;}#sk-container-id-2 div.sk-toggleable__content {max-height: 0;max-width: 0;overflow: hidden;text-align: left;background-color: #f0f8ff;}#sk-container-id-2 div.sk-toggleable__content pre {margin: 0.2em;color: black;border-radius: 0.25em;background-color: #f0f8ff;}#sk-container-id-2 input.sk-toggleable__control:checked~div.sk-toggleable__content {max-height: 200px;max-width: 100%;overflow: auto;}#sk-container-id-2 input.sk-toggleable__control:checked~label.sk-toggleable__label-arrow:before {content: \"▾\";}#sk-container-id-2 div.sk-estimator input.sk-toggleable__control:checked~label.sk-toggleable__label {background-color: #d4ebff;}#sk-container-id-2 div.sk-label input.sk-toggleable__control:checked~label.sk-toggleable__label {background-color: #d4ebff;}#sk-container-id-2 input.sk-hidden--visually {border: 0;clip: rect(1px 1px 1px 1px);clip: rect(1px, 1px, 1px, 1px);height: 1px;margin: -1px;overflow: hidden;padding: 0;position: absolute;width: 1px;}#sk-container-id-2 div.sk-estimator {font-family: monospace;background-color: #f0f8ff;border: 1px dotted black;border-radius: 0.25em;box-sizing: border-box;margin-bottom: 0.5em;}#sk-container-id-2 div.sk-estimator:hover {background-color: #d4ebff;}#sk-container-id-2 div.sk-parallel-item::after {content: \"\";width: 100%;border-bottom: 1px solid gray;flex-grow: 1;}#sk-container-id-2 div.sk-label:hover label.sk-toggleable__label {background-color: #d4ebff;}#sk-container-id-2 div.sk-serial::before {content: \"\";position: absolute;border-left: 1px solid gray;box-sizing: border-box;top: 0;bottom: 0;left: 50%;z-index: 0;}#sk-container-id-2 div.sk-serial {display: flex;flex-direction: column;align-items: center;background-color: white;padding-right: 0.2em;padding-left: 0.2em;position: relative;}#sk-container-id-2 div.sk-item {position: relative;z-index: 1;}#sk-container-id-2 div.sk-parallel {display: flex;align-items: stretch;justify-content: center;background-color: white;position: relative;}#sk-container-id-2 div.sk-item::before, #sk-container-id-2 div.sk-parallel-item::before {content: \"\";position: absolute;border-left: 1px solid gray;box-sizing: border-box;top: 0;bottom: 0;left: 50%;z-index: -1;}#sk-container-id-2 div.sk-parallel-item {display: flex;flex-direction: column;z-index: 1;position: relative;background-color: white;}#sk-container-id-2 div.sk-parallel-item:first-child::after {align-self: flex-end;width: 50%;}#sk-container-id-2 div.sk-parallel-item:last-child::after {align-self: flex-start;width: 50%;}#sk-container-id-2 div.sk-parallel-item:only-child::after {width: 0;}#sk-container-id-2 div.sk-dashed-wrapped {border: 1px dashed gray;margin: 0 0.4em 0.5em 0.4em;box-sizing: border-box;padding-bottom: 0.4em;background-color: white;}#sk-container-id-2 div.sk-label label {font-family: monospace;font-weight: bold;display: inline-block;line-height: 1.2em;}#sk-container-id-2 div.sk-label-container {text-align: center;}#sk-container-id-2 div.sk-container {/* jupyter's `normalize.less` sets `[hidden] { display: none; }` but bootstrap.min.css set `[hidden] { display: none !important; }` so we also need the `!important` here to be able to override the default hidden behavior on the sphinx rendered scikit-learn.org. See: https://github.com/scikit-learn/scikit-learn/issues/21755 */display: inline-block !important;position: relative;}#sk-container-id-2 div.sk-text-repr-fallback {display: none;}</style><div id=\"sk-container-id-2\" class=\"sk-top-container\"><div class=\"sk-text-repr-fallback\"><pre>XGBRegressor(base_score=None, booster=None, callbacks=None,\n",
       "             colsample_bylevel=None, colsample_bynode=None,\n",
       "             colsample_bytree=None, device=None, early_stopping_rounds=None,\n",
       "             enable_categorical=False, eval_metric=None, feature_types=None,\n",
       "             gamma=None, grow_policy=None, importance_type=None,\n",
       "             interaction_constraints=None, learning_rate=0.2, max_bin=None,\n",
       "             max_cat_threshold=None, max_cat_to_onehot=None,\n",
       "             max_delta_step=None, max_depth=5, max_leaves=None,\n",
       "             min_child_weight=None, missing=nan, monotone_constraints=None,\n",
       "             multi_strategy=None, n_estimators=80, n_jobs=-1,\n",
       "             num_parallel_tree=None, random_state=42, ...)</pre><b>In a Jupyter environment, please rerun this cell to show the HTML representation or trust the notebook. <br />On GitHub, the HTML representation is unable to render, please try loading this page with nbviewer.org.</b></div><div class=\"sk-container\" hidden><div class=\"sk-item\"><div class=\"sk-estimator sk-toggleable\"><input class=\"sk-toggleable__control sk-hidden--visually\" id=\"sk-estimator-id-2\" type=\"checkbox\" checked><label for=\"sk-estimator-id-2\" class=\"sk-toggleable__label sk-toggleable__label-arrow\">XGBRegressor</label><div class=\"sk-toggleable__content\"><pre>XGBRegressor(base_score=None, booster=None, callbacks=None,\n",
       "             colsample_bylevel=None, colsample_bynode=None,\n",
       "             colsample_bytree=None, device=None, early_stopping_rounds=None,\n",
       "             enable_categorical=False, eval_metric=None, feature_types=None,\n",
       "             gamma=None, grow_policy=None, importance_type=None,\n",
       "             interaction_constraints=None, learning_rate=0.2, max_bin=None,\n",
       "             max_cat_threshold=None, max_cat_to_onehot=None,\n",
       "             max_delta_step=None, max_depth=5, max_leaves=None,\n",
       "             min_child_weight=None, missing=nan, monotone_constraints=None,\n",
       "             multi_strategy=None, n_estimators=80, n_jobs=-1,\n",
       "             num_parallel_tree=None, random_state=42, ...)</pre></div></div></div></div></div>"
      ],
      "text/plain": [
       "XGBRegressor(base_score=None, booster=None, callbacks=None,\n",
       "             colsample_bylevel=None, colsample_bynode=None,\n",
       "             colsample_bytree=None, device=None, early_stopping_rounds=None,\n",
       "             enable_categorical=False, eval_metric=None, feature_types=None,\n",
       "             gamma=None, grow_policy=None, importance_type=None,\n",
       "             interaction_constraints=None, learning_rate=0.2, max_bin=None,\n",
       "             max_cat_threshold=None, max_cat_to_onehot=None,\n",
       "             max_delta_step=None, max_depth=5, max_leaves=None,\n",
       "             min_child_weight=None, missing=nan, monotone_constraints=None,\n",
       "             multi_strategy=None, n_estimators=80, n_jobs=-1,\n",
       "             num_parallel_tree=None, random_state=42, ...)"
      ]
     },
     "execution_count": 102,
     "metadata": {},
     "output_type": "execute_result"
    }
   ],
   "source": [
    "%%time\n",
    "model.fit(X_train, train_targets)"
   ]
  },
  {
   "cell_type": "code",
   "execution_count": 104,
   "id": "3f01b7d8-9d58-47fb-b3e6-6d973b483e8e",
   "metadata": {},
   "outputs": [
    {
     "data": {
      "text/plain": [
       "(0.14477848863331055, 0.15266814602207027)"
      ]
     },
     "execution_count": 104,
     "metadata": {},
     "output_type": "execute_result"
    }
   ],
   "source": [
    "mean_squared_log_error(train_targets,model.predict(X_train),squared=False),mean_squared_log_error(val_targets,model.predict(X_val),squared=False)"
   ]
  },
  {
   "cell_type": "code",
   "execution_count": 105,
   "id": "4fd9b7ea-1d51-41f9-a7f0-3083e69f0e78",
   "metadata": {},
   "outputs": [
    {
     "data": {
      "text/html": [
       "<div>\n",
       "<style scoped>\n",
       "    .dataframe tbody tr th:only-of-type {\n",
       "        vertical-align: middle;\n",
       "    }\n",
       "\n",
       "    .dataframe tbody tr th {\n",
       "        vertical-align: top;\n",
       "    }\n",
       "\n",
       "    .dataframe thead th {\n",
       "        text-align: right;\n",
       "    }\n",
       "</style>\n",
       "<table border=\"1\" class=\"dataframe\">\n",
       "  <thead>\n",
       "    <tr style=\"text-align: right;\">\n",
       "      <th></th>\n",
       "      <th>id</th>\n",
       "      <th>Rings</th>\n",
       "    </tr>\n",
       "  </thead>\n",
       "  <tbody>\n",
       "    <tr>\n",
       "      <th>0</th>\n",
       "      <td>90615</td>\n",
       "      <td>10</td>\n",
       "    </tr>\n",
       "    <tr>\n",
       "      <th>1</th>\n",
       "      <td>90616</td>\n",
       "      <td>10</td>\n",
       "    </tr>\n",
       "    <tr>\n",
       "      <th>2</th>\n",
       "      <td>90617</td>\n",
       "      <td>10</td>\n",
       "    </tr>\n",
       "    <tr>\n",
       "      <th>3</th>\n",
       "      <td>90618</td>\n",
       "      <td>10</td>\n",
       "    </tr>\n",
       "    <tr>\n",
       "      <th>4</th>\n",
       "      <td>90619</td>\n",
       "      <td>8</td>\n",
       "    </tr>\n",
       "    <tr>\n",
       "      <th>...</th>\n",
       "      <td>...</td>\n",
       "      <td>...</td>\n",
       "    </tr>\n",
       "    <tr>\n",
       "      <th>60406</th>\n",
       "      <td>151021</td>\n",
       "      <td>6</td>\n",
       "    </tr>\n",
       "    <tr>\n",
       "      <th>60407</th>\n",
       "      <td>151022</td>\n",
       "      <td>9</td>\n",
       "    </tr>\n",
       "    <tr>\n",
       "      <th>60408</th>\n",
       "      <td>151023</td>\n",
       "      <td>12</td>\n",
       "    </tr>\n",
       "    <tr>\n",
       "      <th>60409</th>\n",
       "      <td>151024</td>\n",
       "      <td>13</td>\n",
       "    </tr>\n",
       "    <tr>\n",
       "      <th>60410</th>\n",
       "      <td>151025</td>\n",
       "      <td>9</td>\n",
       "    </tr>\n",
       "  </tbody>\n",
       "</table>\n",
       "<p>60411 rows × 2 columns</p>\n",
       "</div>"
      ],
      "text/plain": [
       "           id  Rings\n",
       "0       90615     10\n",
       "1       90616     10\n",
       "2       90617     10\n",
       "3       90618     10\n",
       "4       90619      8\n",
       "...       ...    ...\n",
       "60406  151021      6\n",
       "60407  151022      9\n",
       "60408  151023     12\n",
       "60409  151024     13\n",
       "60410  151025      9\n",
       "\n",
       "[60411 rows x 2 columns]"
      ]
     },
     "execution_count": 105,
     "metadata": {},
     "output_type": "execute_result"
    }
   ],
   "source": [
    "predict_and_submit(model, 'XGBRegressor_submission.csv')"
   ]
  },
  {
   "cell_type": "code",
   "execution_count": null,
   "id": "718e2467-af17-4585-b2ca-6d8c07a6c333",
   "metadata": {},
   "outputs": [],
   "source": []
  }
 ],
 "metadata": {
  "kernelspec": {
   "display_name": "Python 3 (ipykernel)",
   "language": "python",
   "name": "python3"
  },
  "language_info": {
   "codemirror_mode": {
    "name": "ipython",
    "version": 3
   },
   "file_extension": ".py",
   "mimetype": "text/x-python",
   "name": "python",
   "nbconvert_exporter": "python",
   "pygments_lexer": "ipython3",
   "version": "3.11.3"
  }
 },
 "nbformat": 4,
 "nbformat_minor": 5
}
